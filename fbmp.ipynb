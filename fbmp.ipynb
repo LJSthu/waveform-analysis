{
 "cells": [
  {
   "cell_type": "code",
   "execution_count": null,
   "metadata": {},
   "outputs": [],
   "source": [
    "import os\n",
    "import math\n",
    "import csv\n",
    "\n",
    "import h5py\n",
    "import numpy as np\n",
    "import matplotlib.pyplot as plt\n",
    "from matplotlib import cm\n",
    "from matplotlib.colors import ListedColormap\n",
    "import scipy.special as special\n",
    "from scipy.stats import poisson, uniform, norm\n",
    "import matplotlib.gridspec as gridspec\n",
    "from tqdm import tqdm\n",
    "from mpl_axes_aligner import align\n",
    "from multiprocessing import Pool, cpu_count\n",
    "from functools import partial\n",
    "from scipy.signal import savgol_filter\n",
    "\n",
    "import wf_func as wff\n",
    "\n",
    "spe_pre = wff.read_model('spe.h5', 1)\n",
    "p = spe_pre[0]['parameters']\n",
    "gmu = 160.\n",
    "gsigma = 40.\n",
    "std = 1.\n",
    "\n",
    "import matplotlib\n",
    "matplotlib.use('Agg')\n",
    "matplotlib.rcParams.update(matplotlib.rcParamsDefault)\n",
    "plt.rcParams['font.size'] = 20\n",
    "%matplotlib inline"
   ]
  },
  {
   "cell_type": "markdown",
   "metadata": {},
   "source": [
    "# 使用单 bin 时间窗计算 $\\mu$ 后验分布的 bias"
   ]
  },
  {
   "cell_type": "code",
   "execution_count": null,
   "metadata": {},
   "outputs": [],
   "source": [
    "def getm(i, p):\n",
    "    N = 10000\n",
    "    bias = np.empty(N)\n",
    "    np.random.seed(i)\n",
    "    Mu = 10\n",
    "    gmu = 160\n",
    "    gsigma = 40\n",
    "    npan = np.arange(1, 50)\n",
    "    for i in range(N):\n",
    "        n = poisson.ppf(1 - uniform.rvs(scale=1-poisson.cdf(0, Mu), size=1), Mu).astype(int)\n",
    "        cha = norm.ppf(1 - uniform.rvs(scale=1-norm.cdf(0, loc=gmu, scale=gsigma), size=n), loc=gmu, scale=gsigma)\n",
    "        cha = cha.sum()\n",
    "        if p:\n",
    "            weight = poisson.pmf(npan, Mu) * norm.pdf(cha, loc=gmu * npan, scale=gsigma * np.sqrt(npan))\n",
    "        else:\n",
    "            weight = norm.pdf(cha, loc=gmu * npan, scale=gsigma * np.sqrt(npan))\n",
    "        weight = weight / weight.sum()\n",
    "        bias[i] = np.sum(npan * weight) - n\n",
    "    m = bias.mean()\n",
    "    return m"
   ]
  },
  {
   "cell_type": "code",
   "execution_count": null,
   "metadata": {},
   "outputs": [],
   "source": [
    "slices = np.arange(1000).T.tolist()\n",
    "with Pool(100) as pool:\n",
    "    resultpoisson = np.hstack([pool.starmap(getm, zip(slices, [True] * len(slices)))])\n",
    "with Pool(100) as pool:\n",
    "    resultflat = np.hstack([pool.starmap(getm, zip(slices, [False] * len(slices)))])"
   ]
  },
  {
   "cell_type": "code",
   "execution_count": null,
   "metadata": {},
   "outputs": [],
   "source": [
    "plt.close()\n",
    "fig = plt.figure(figsize=(8, 6))\n",
    "# fig.tight_layout()\n",
    "gs = gridspec.GridSpec(1, 1, figure=fig, left=0.15, right=0.85, top=0.95, bottom=0.15, wspace=0.4, hspace=0.5)\n",
    "ax = fig.add_subplot(gs[0, 0])\n",
    "ax.hist(resultpoisson, bins=20, histtype='step', label='poisson')\n",
    "ax.hist(resultflat, bins=20, histtype='step', label='flat')\n",
    "ax.grid()\n",
    "ax.legend(title='poisson mean = {:.2e}\\nflat mean = {:.2e}'.format(resultpoisson.mean(), resultflat.mean()), loc='upper center')\n",
    "ax.set_xlabel('bias')\n",
    "ax.set_ylabel('count')\n",
    "fig.savefig('note/onebinbias.png')\n",
    "plt.show()"
   ]
  },
  {
   "cell_type": "markdown",
   "metadata": {},
   "source": [
    "# 评估 DAQ 取整对 $\\sigma_w$ 大小的影响"
   ]
  },
  {
   "cell_type": "code",
   "execution_count": null,
   "metadata": {},
   "outputs": [],
   "source": [
    "window = 100\n",
    "pan = np.arange(window)\n",
    "charge = wff.charge(N, gmu=gmu, gsigma=gsigma, thres=0)\n",
    "spetru = [wff.spe(pan, tau=p[0], sigma=p[1], A=p[2]) * charge[i] for i in range(N)]\n",
    "spe = [np.around(spetru[i] + np.random.normal(0, std, size=window)) for i in range(N)]\n",
    "diff = np.stack([spe[i] - spetru[i] for i in range(N)]).flatten()"
   ]
  },
  {
   "cell_type": "code",
   "execution_count": null,
   "metadata": {},
   "outputs": [],
   "source": [
    "plt.close()\n",
    "fig = plt.figure(figsize=(8, 6))\n",
    "# fig.tight_layout()\n",
    "gs = gridspec.GridSpec(1, 1, figure=fig, left=0.15, right=0.85, top=0.95, bottom=0.15, wspace=0.4, hspace=0.5)\n",
    "ax = fig.add_subplot(gs[0, 0])\n",
    "t = np.arange(-5, 5, 0.1)\n",
    "ax.hist(diff, bins=200, alpha=0.5, histtype='step', density=True)\n",
    "ax.plot(t, norm.pdf(t, loc=0, scale=std), c='k')\n",
    "plt.show()"
   ]
  },
  {
   "cell_type": "markdown",
   "metadata": {},
   "source": [
    "# $\\mu$ 的 bias 随着 bin width 的变化"
   ]
  },
  {
   "cell_type": "code",
   "execution_count": null,
   "metadata": {},
   "outputs": [],
   "source": [
    "with open('rc.csv') as f:\n",
    "    f_csv = csv.reader(f, delimiter=' ')\n",
    "    Tau = next(f_csv)\n",
    "    Tau = [float(i) for i in Tau]\n",
    "    Sigma = next(f_csv)\n",
    "    Sigma = [float(i) for i in Sigma]\n",
    "\n",
    "filelist = os.listdir('result/lucyddm/solu')\n",
    "filelist = [f for f in filelist if f[0] != '.' and os.path.splitext(f)[-1] == '.h5']\n",
    "numbers = [[float(i) for i in f[:-3].split('-')] for f in filelist]\n",
    "stype = np.dtype([('mu', np.float64), ('tau', np.float64), ('sigma', np.float64), ('n', np.uint), ('stdmutru', np.float64), ('stdmuint', np.float64), ('stdmupe', np.float64), ('stdmumax', np.float64), ('stdmu', np.float64), ('biasmuint', np.float64), ('biasmupe', np.float64), ('biasmumax', np.float64), ('biasmu', np.float64), ('N', np.uint)])\n",
    "mtsi = np.zeros(len(numbers), dtype=stype)\n",
    "mtsi['mu'] = np.array([i[0] for i in numbers])\n",
    "mtsi['tau'] = np.array([i[1] for i in numbers])\n",
    "mtsi['sigma'] = np.array([i[2] for i in numbers])\n",
    "mtsi['n'] = np.arange(len(numbers))\n",
    "mtsi['stdmutru'] = np.nan\n",
    "mtsi['stdmuint'] = np.nan\n",
    "mtsi['stdmupe'] = np.nan\n",
    "mtsi['stdmumax'] = np.nan\n",
    "mtsi['stdmu'] = np.nan\n",
    "mtsi['biasmuint'] = np.nan\n",
    "mtsi['biasmupe'] = np.nan\n",
    "mtsi['biasmumax'] = np.nan\n",
    "mtsi['biasmu'] = np.nan\n",
    "mtsi = np.sort(mtsi, kind='stable', order=['mu', 'tau', 'sigma'])\n",
    "mts = {1:mtsi.copy(), 2:mtsi.copy(), 5:mtsi.copy(), 10:mtsi.copy()}\n",
    "\n",
    "marker = {'int':'o', 'fbmp':'s', 'fbmpmax':'^'}\n",
    "color = {'int':'g', 1:'r', 2:'b', 5:'y', 10:'m'}\n",
    "\n",
    "for key in mts.keys():\n",
    "    for i in range(len(mts[key])):\n",
    "        f = filelist[mts[key][i]['n']]\n",
    "        mu = mts[key][i]['mu']\n",
    "        tau = mts[key][i]['tau']\n",
    "        sigma = mts[key][i]['sigma']\n",
    "        try:\n",
    "            with h5py.File(os.path.join('result', 'fbmp-'+str(key), 'solu', f), 'r', libver='latest', swmr=True) as soluf, h5py.File(os.path.join('result', 'fbmp-'+str(key), 'dist', f), 'r', libver='latest', swmr=True) as distf, h5py.File(os.path.join('waveform', f), 'r', libver='latest', swmr=True) as wavef:\n",
    "                time = soluf['starttime'][:]\n",
    "                record = distf['Record'][:]\n",
    "                start = wavef['SimTruth/T'][:]\n",
    "                pelist = wavef['SimTriggerInfo/PEList'][:]\n",
    "                waves = wavef['Readout/Waveform'][:]\n",
    "                gmu = wavef['SimTriggerInfo/PEList'].attrs['gmu']\n",
    "                gsigma = wavef['SimTriggerInfo/PEList'].attrs['gsigma']\n",
    "                r = wavef['SimTruth/T'].attrs['r']\n",
    "            mts[key][i]['N'] = len(start)\n",
    "            vali = np.full(len(start['T0']), True)\n",
    "            mts[key][i]['N'] = len(start)\n",
    "            Chnum = len(np.unique(pelist['PMTId']))\n",
    "            e_ans, i_ans = np.unique(pelist['TriggerNo'] * Chnum + pelist['PMTId'], return_index=True)\n",
    "            i_ans = np.append(i_ans, len(pelist))\n",
    "            pe_sum = np.array([pelist[i_ans[i]:i_ans[i+1]]['Charge'].sum() for i in range(len(e_ans))]) / gmu\n",
    "            wave_sum = waves['Waveform'].sum(axis=1) / gmu\n",
    "            n = np.arange(1, 1000)\n",
    "            mean = np.average(n, weights=poisson.pmf(n, mu=mu))\n",
    "            lognm = np.average(np.log(n), weights=poisson.pmf(n, mu=mu))\n",
    "            slog = np.sqrt(np.average((np.log(n) - lognm)**2, weights=poisson.pmf(n, mu=mu)))\n",
    "            mts[key][i]['stdmutru'] = slog\n",
    "            slog = np.std(np.log(wave_sum[vali]), ddof=-1)\n",
    "            m = np.mean(wave_sum[vali]) - mean\n",
    "            mts[key][i]['stdmuint'] = slog\n",
    "            mts[key][i]['biasmuint'] = m\n",
    "            s = np.std(pe_sum[vali], ddof=-1)\n",
    "            slog = np.std(np.log(pe_sum[vali]), ddof=-1)\n",
    "            m = np.mean(pe_sum[vali]) - mean\n",
    "            mts[key][i]['stdmupe'] = slog\n",
    "            mts[key][i]['biasmupe'] = m\n",
    "            s = np.std(time['mucharge'][vali], ddof=-1)\n",
    "            slog = np.std(np.log(time['mucharge'][vali]), ddof=-1)\n",
    "            m = np.mean(time['mucharge'][vali]) - mean\n",
    "            mts[key][i]['stdmumax'] = slog\n",
    "            mts[key][i]['biasmumax'] = m\n",
    "            s = np.std(time['muwave'][vali], ddof=-1)\n",
    "            slog = np.std(np.log(time['muwave'][vali]), ddof=-1)\n",
    "            m = np.mean(time['muwave'][vali]) - mean\n",
    "            mts[key][i]['stdmu'] = slog\n",
    "            mts[key][i]['biasmu'] = m\n",
    "        except:\n",
    "            pass\n",
    "\n",
    "figb = plt.figure(figsize=(len(Tau) * 5, len(Sigma) * 3))\n",
    "gs = gridspec.GridSpec(1, 2, figure=figb, left=0.1, right=0.8, top=0.92, bottom=0.15, wspace=0.3, hspace=0.35)\n",
    "for sigma, i in zip(Sigma, list(range(len(Sigma)))):\n",
    "    for tau, j in zip(Tau, list(range(len(Tau)))):\n",
    "        stdlistkey = mts[1][(mts[1]['tau'] == tau) & (mts[1]['sigma'] == sigma)]\n",
    "        \n",
    "        ax = figb.add_subplot(gs[i, j])\n",
    "        n = np.arange(1, 1000)\n",
    "        mean = np.array([np.average(n, weights=poisson.pmf(n, mu=mu)) for mu in stdlistkey['mu']])\n",
    "        yerr = stdlistkey['biasmuint'] / np.sqrt(stdlistkey['N']) / mean\n",
    "        ax.errorbar(stdlistkey['mu'], stdlistkey['biasmuint'] / mean, yerr=yerr, label='int', color=color['int'])\n",
    "        \n",
    "        for key in mts.keys():\n",
    "            stdlistkey = mts[key][(mts[key]['tau'] == tau) & (mts[key]['sigma'] == sigma)]\n",
    "            yerr = stdlistkey['biasmumax'] / np.sqrt(stdlistkey['N']) / mean\n",
    "            ax.errorbar(stdlistkey['mu'], stdlistkey['biasmumax'] / mean, yerr=yerr, label='fbmpmax-'+str(key), color=color[key], marker=marker['fbmpmax'])\n",
    "            yerr = stdlistkey['biasmu'] / np.sqrt(stdlistkey['N']) / mean\n",
    "            ax.errorbar(stdlistkey['mu'], stdlistkey['biasmu'] / mean, yerr=yerr, label='fbmp-'+str(key), color=color[key], marker=marker['fbmp'])\n",
    "        ax.set_xlabel(r'$N_{\\mathrm{PE}}\\ \\mathrm{expectation}\\ \\mu$')\n",
    "        ax.set_ylabel(r'$\\frac{\\Delta \\mu}{\\mu}$')\n",
    "        ax.set_title(fr'$\\tau={tau}\\mathrm{{ns}},\\,\\sigma={sigma}\\mathrm{{ns}}$')\n",
    "        ax.yaxis.get_major_formatter().set_powerlimits((0, 0))\n",
    "        ax.grid()\n",
    "        if i == len(Sigma) - 1 and j == len(Tau) - 1:\n",
    "            ax.legend(loc='upper left', bbox_to_anchor=(1., 0.9))\n",
    "figb.savefig('note/vs-biasmu-bin.png')\n",
    "plt.close(figb)"
   ]
  },
  {
   "cell_type": "markdown",
   "metadata": {},
   "source": [
    "# 检查评估 FBMP 的先验分布对结果的影响"
   ]
  },
  {
   "cell_type": "code",
   "execution_count": null,
   "metadata": {},
   "outputs": [],
   "source": [
    "para = '10.0-20-5'\n",
    "Mu = 10\n",
    "Tau = 20\n",
    "Sigma = 5\n",
    "wf = h5py.File('waveform/' + para + '.h5', 'r', libver='latest', swmr=True)\n",
    "ch = h5py.File('result/fbmp/char/' + para + '.h5', 'r', libver='latest', swmr=True)\n",
    "so = h5py.File('result/fbmp/solu/' + para + '.h5', 'r', libver='latest', swmr=True)\n",
    "di = h5py.File('result/fbmp/dist/' + para + '.h5', 'r', libver='latest', swmr=True)"
   ]
  },
  {
   "cell_type": "code",
   "execution_count": null,
   "metadata": {},
   "outputs": [],
   "source": [
    "truth = wf['SimTruth/T'][:]\n",
    "charge = ch['photoelectron'][:]\n",
    "answer = so['starttime'][:]\n",
    "dist = di['Record'][:]"
   ]
  },
  {
   "cell_type": "code",
   "execution_count": null,
   "metadata": {},
   "outputs": [],
   "source": [
    "n = np.arange(1, 1000)\n",
    "mean = np.average(n, weights=poisson.pmf(n, mu=Mu))\n",
    "s = np.sqrt(np.average((n - mean)**2, weights=poisson.pmf(n, mu=Mu)))"
   ]
  },
  {
   "cell_type": "code",
   "execution_count": null,
   "metadata": {},
   "outputs": [],
   "source": [
    "plt.close()\n",
    "fig = plt.figure(figsize=(12, 8))\n",
    "ax = fig.add_subplot()\n",
    "ax.hist2d(np.abs(answer['tswave'] - truth['T0']), np.abs(answer['muwave'] - mean), bins=(100, 100))\n",
    "# ax.legend()\n",
    "ax.set_xlabel(r'$\\Delta t_0/ns$')\n",
    "ax.set_ylabel(r'$\\Delta \\mu$')\n",
    "plt.show()"
   ]
  },
  {
   "cell_type": "code",
   "execution_count": null,
   "metadata": {},
   "outputs": [],
   "source": [
    "np.corrcoef(np.abs(answer['tswave'] - truth['T0']), np.abs(answer['muwave'] - mean))"
   ]
  },
  {
   "cell_type": "code",
   "execution_count": null,
   "metadata": {},
   "outputs": [],
   "source": [
    "plt.close()\n",
    "fig = plt.figure(figsize=(12, 8))\n",
    "ax = fig.add_subplot()\n",
    "xmin = min(answer['tscharge'] - truth['T0'])\n",
    "xmax = max(answer['tscharge'] - truth['T0'])\n",
    "for i in range(int(dist['NPE'].min()), int(dist['NPE'].max())):\n",
    "    s = np.std((answer['tscharge'] - truth['T0'])[dist['NPE'] == i], ddof=-1)\n",
    "    n = len((answer['tscharge'] - truth['T0'])[dist['NPE'] == i])\n",
    "    ax.hist((answer['tscharge'] - truth['T0'])[dist['NPE'] == i], bins=np.arange(xmin, xmax), alpha=0.5, histtype='step', density=False, label=f'{i},{s:.02f},{n}')\n",
    "ax.legend()\n",
    "ax.set_yscale('log')\n",
    "ax.set_xlabel(r'$\\Delta t_0/ns$')\n",
    "plt.show()"
   ]
  },
  {
   "cell_type": "code",
   "execution_count": null,
   "metadata": {},
   "outputs": [],
   "source": [
    "plt.close()\n",
    "fig = plt.figure(figsize=(12, 8))\n",
    "ax = fig.add_subplot()\n",
    "xmin = min(charge['Charge'])\n",
    "xmax = max(charge['Charge'])\n",
    "t = np.arange(0, 1000, 0.1)\n",
    "ax.plot(t, norm.pdf(t, loc=160., scale=40.) / (1 - norm.cdf(0, loc=160., scale=40.)), label='ChargePDF')\n",
    "# for i in range(int(dist['NPE'].min()), int(dist['NPE'].max())):\n",
    "for i in [2, 4, 6, 8, 10, 12]:\n",
    "    triggerno = dist['TriggerNo'][dist['NPE'] == i]\n",
    "    c = charge['Charge'][np.isin(charge['TriggerNo'], triggerno)]\n",
    "    m = c.mean()\n",
    "    n = len(c)\n",
    "    ax.hist(c, bins=np.arange(xmin, xmax, 10), alpha=0.5, histtype='step', density=True, label=f'{i},{m:.02f},{n}')\n",
    "ax.legend()\n",
    "ax.set_xlim(xmin, xmax)\n",
    "ax.set_xlabel(r'$Charge/mV·ns$')\n",
    "plt.show()"
   ]
  }
 ],
 "metadata": {
  "kernelspec": {
   "display_name": "Python 3",
   "language": "python",
   "name": "python3"
  },
  "language_info": {
   "codemirror_mode": {
    "name": "ipython",
    "version": 3
   },
   "file_extension": ".py",
   "mimetype": "text/x-python",
   "name": "python",
   "nbconvert_exporter": "python",
   "pygments_lexer": "ipython3",
   "version": "3.8.7rc1"
  }
 },
 "nbformat": 4,
 "nbformat_minor": 4
}
