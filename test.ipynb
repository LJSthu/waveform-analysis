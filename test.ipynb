{
 "cells": [
  {
   "cell_type": "code",
   "execution_count": 1,
   "metadata": {},
   "outputs": [],
   "source": [
    "%matplotlib inline\n",
    "import matplotlib.pyplot as plt\n",
    "import matplotlib.gridspec as gridspec\n",
    "import os\n",
    "from mpl_axes_aligner import align\n",
    "import numpy as np\n",
    "import pandas as pd\n",
    "import h5py\n",
    "import math\n",
    "import torch\n",
    "from torchviz import make_dot\n",
    "from JPwaptool import JPwaptool\n",
    "import wf_func as wff\n",
    "plt.rcParams['savefig.dpi'] = 300\n",
    "plt.rcParams['figure.dpi'] = 300\n",
    "plt.rcParams['font.size'] = 12\n",
    "plt.rcParams['lines.markersize'] = 4.0\n",
    "plt.rcParams['lines.linewidth'] = 1.0\n",
    "plt.rcParams['mathtext.fontset'] = 'cm'"
   ]
  },
  {
   "cell_type": "code",
   "execution_count": 2,
   "metadata": {},
   "outputs": [],
   "source": [
    "t = np.array([0, 1, 2, 3])\n",
    "a = np.array([0.5, 0.5, 0.5, 1])\n",
    "b1 = np.array([0.5, 0.5, 1, 0.5])\n",
    "b2 = np.array([1, 0.5, 0.5, 0.5])\n",
    "fig = plt.figure()\n",
    "gs = gridspec.GridSpec(2, 2, figure=fig, left=0.12, right=0.95, top=0.99, bottom=0.15, wspace=0.4, hspace=0.5)\n",
    "ax0 = fig.add_subplot(gs[0, 0])\n",
    "ax1 = fig.add_subplot(gs[0, 1])\n",
    "ax2 = fig.add_subplot(gs[1, 0])\n",
    "ax3 = fig.add_subplot(gs[1, 1])\n",
    "ax0.bar(t, a, color='r')\n",
    "ax0.set_xlabel('$a$', fontsize=20)\n",
    "ax0.set_ylabel('$weight\\_a$', fontsize=20)\n",
    "ax0.set_ylim(-0.1, 1.1)\n",
    "ax0.set_xticks(t)\n",
    "ax1.bar(t, b1, color='b')\n",
    "ax1.set_xlabel('$b1$', fontsize=20)\n",
    "ax1.set_ylabel('$weight\\_b1$', fontsize=20)\n",
    "ax1.set_xticks(t)\n",
    "ax2.bar(t, b2, color='b')\n",
    "ax2.set_xlabel('$b2$', fontsize=20)\n",
    "ax2.set_ylabel('$weight\\_b2$', fontsize=20)\n",
    "ax2.set_xticks(t)\n",
    "ax3.text(0, 0, '$L_{2}\\ =\\ 0.25$', fontsize=25)\n",
    "ax3.set_xlim(0, 5)\n",
    "ax3.set_ylim(-1, 1)\n",
    "ax3.spines['top'].set_visible(False)\n",
    "ax3.spines['right'].set_visible(False)\n",
    "ax3.spines['bottom'].set_visible(False)\n",
    "ax3.spines['left'].set_visible(False)\n",
    "ax3.get_xaxis().set_visible(False)\n",
    "ax3.get_yaxis().set_visible(False)\n",
    "fig.savefig('img/tab.png')\n",
    "fig.clf()\n",
    "plt.close(fig)"
   ]
  },
  {
   "cell_type": "code",
   "execution_count": 3,
   "metadata": {},
   "outputs": [],
   "source": [
    "t = np.array([0, 1, 2, 3])\n",
    "a = np.array([3, 7, 0, 0])\n",
    "b = np.array([0, 0, 5, 5])\n",
    "fig = plt.figure()\n",
    "ax = fig.add_subplot(111)\n",
    "ax.vlines(t, 0, a, label='$weight\\_a$', color = 'b', linewidth = 6)\n",
    "ax.set_xlim(-0.5, 3.5)\n",
    "ax.set_ylim(0, 10)\n",
    "ax.tick_params(labelsize=20)\n",
    "ax.set_xlabel('$a$', fontsize=30)\n",
    "ax.set_ylabel('$weight$', fontsize=30)\n",
    "ax.set_xticks(t)\n",
    "ax.legend(prop={'size': 20})\n",
    "fig.savefig('img/a.png', bbox_inches='tight')\n",
    "fig.clf()\n",
    "plt.close(fig)\n",
    "fig = plt.figure()\n",
    "ax = fig.add_subplot(111)\n",
    "ax.vlines(t, 0, b, label='$weight\\_b$', color = 'r', linewidth = 6)\n",
    "ax.set_xlim(-0.5, 3.5)\n",
    "ax.set_ylim(0, 10)\n",
    "ax.tick_params(labelsize=20)\n",
    "ax.set_xlabel('$b$', fontsize=30)\n",
    "ax.set_ylabel('$weight$', fontsize=30)\n",
    "ax.set_xticks(t)\n",
    "ax.legend(prop={'size': 20})\n",
    "fig.savefig('img/b.png', bbox_inches='tight')\n",
    "fig.clf()\n",
    "plt.close(fig)\n",
    "t = np.append(np.array([0]), t)\n",
    "a = np.append(np.array([0]), np.cumsum(a / a.sum()))\n",
    "b = np.append(np.array([0]), np.cumsum(b / b.sum()))\n",
    "fig = plt.figure()\n",
    "ax = fig.add_subplot(111)\n",
    "ax.hlines(0, -1, 4, color='k')\n",
    "al = ax.step(t, a, label='$cdf\\ weight\\_a$', color = 'b', where='post', linewidth = 3)\n",
    "bl = ax.step(t, b, label='$cdf\\ weight\\_b$', color = 'r', where='post', linewidth = 3)\n",
    "ax.fill_between(np.repeat(t, 2)[2:], np.zeros(len(np.repeat(t, 2)[2:])), np.repeat(b, 2)[1:-1], facecolor='C1', alpha=0.1, color=None)\n",
    "ax.fill_between(np.repeat(t, 2)[2:], np.repeat(a, 2)[1:-1], np.repeat(b, 2)[1:-1], facecolor='blue', alpha=0.5, color=None, label='$W-dist Area$')\n",
    "ax.set_xlim(-0.5, 3.5)\n",
    "ax.set_ylim(-0.1, 1.1)\n",
    "ax.tick_params(labelsize=20)\n",
    "ax.grid()\n",
    "ax.text(1.1, 0.7, '$W-dist\\ Area$', fontsize=25)\n",
    "ax.set_xlabel('$a\\ or\\ b$', fontsize=30)\n",
    "ax.set_ylabel('$normalized\\ weight$', fontsize=30)\n",
    "ax.legend()\n",
    "fig.savefig('img/ab.png', bbox_inches='tight')\n",
    "fig.clf()\n",
    "plt.close(fig)"
   ]
  },
  {
   "cell_type": "code",
   "execution_count": 4,
   "metadata": {},
   "outputs": [],
   "source": [
    "stream = JPwaptool(1029, 150, 600, 7, 15)\n",
    "spe_pre = wff.read_model('spe-jinp.h5')\n",
    "with h5py.File('/srv/waveform-analysis/dataset/jinp/ztraining-0.h5', 'r', libver='latest', swmr=True) as ipt:\n",
    "    ent = ipt['Waveform'][:]\n",
    "    tru = ipt['GroundTruth'][:]"
   ]
  },
  {
   "cell_type": "code",
   "execution_count": 7,
   "metadata": {},
   "outputs": [],
   "source": [
    "i = 1\n",
    "stream.Calculate(ent[i]['Waveform'])\n",
    "cid = ent[i]['ChannelID']\n",
    "eid = ent[i]['EventID']\n",
    "truth = np.sort(tru[(tru['EventID'] == eid) & (tru['ChannelID'] == cid)], kind='stable', order=['EventID', 'ChannelID', 'RiseTime'])\n",
    "wave = (ent[i]['Waveform'] - stream.ChannelInfo.Pedestal) * spe_pre[ent[i]['ChannelID']]['epulse']"
   ]
  },
  {
   "cell_type": "code",
   "execution_count": 8,
   "metadata": {},
   "outputs": [
    {
     "data": {
      "text/html": [
       "<div>\n",
       "<style scoped>\n",
       "    .dataframe tbody tr th:only-of-type {\n",
       "        vertical-align: middle;\n",
       "    }\n",
       "\n",
       "    .dataframe tbody tr th {\n",
       "        vertical-align: top;\n",
       "    }\n",
       "\n",
       "    .dataframe thead th {\n",
       "        text-align: right;\n",
       "    }\n",
       "</style>\n",
       "<table border=\"1\" class=\"dataframe\">\n",
       "  <thead>\n",
       "    <tr style=\"text-align: right;\">\n",
       "      <th></th>\n",
       "      <th>EventID</th>\n",
       "      <th>ChannelID</th>\n",
       "      <th>HitTime</th>\n",
       "      <th>Charge</th>\n",
       "    </tr>\n",
       "  </thead>\n",
       "  <tbody>\n",
       "    <tr>\n",
       "      <th>0</th>\n",
       "      <td>1</td>\n",
       "      <td>1</td>\n",
       "      <td>294</td>\n",
       "      <td>142.897266</td>\n",
       "    </tr>\n",
       "    <tr>\n",
       "      <th>1</th>\n",
       "      <td>1</td>\n",
       "      <td>1</td>\n",
       "      <td>294</td>\n",
       "      <td>185.622822</td>\n",
       "    </tr>\n",
       "    <tr>\n",
       "      <th>2</th>\n",
       "      <td>1</td>\n",
       "      <td>1</td>\n",
       "      <td>300</td>\n",
       "      <td>184.157551</td>\n",
       "    </tr>\n",
       "    <tr>\n",
       "      <th>3</th>\n",
       "      <td>1</td>\n",
       "      <td>1</td>\n",
       "      <td>310</td>\n",
       "      <td>190.715757</td>\n",
       "    </tr>\n",
       "    <tr>\n",
       "      <th>4</th>\n",
       "      <td>1</td>\n",
       "      <td>1</td>\n",
       "      <td>313</td>\n",
       "      <td>151.900865</td>\n",
       "    </tr>\n",
       "    <tr>\n",
       "      <th>5</th>\n",
       "      <td>1</td>\n",
       "      <td>1</td>\n",
       "      <td>325</td>\n",
       "      <td>191.807541</td>\n",
       "    </tr>\n",
       "    <tr>\n",
       "      <th>6</th>\n",
       "      <td>1</td>\n",
       "      <td>1</td>\n",
       "      <td>351</td>\n",
       "      <td>154.046201</td>\n",
       "    </tr>\n",
       "    <tr>\n",
       "      <th>7</th>\n",
       "      <td>1</td>\n",
       "      <td>1</td>\n",
       "      <td>369</td>\n",
       "      <td>124.298918</td>\n",
       "    </tr>\n",
       "  </tbody>\n",
       "</table>\n",
       "</div>"
      ],
      "text/plain": [
       "   EventID  ChannelID  HitTime      Charge\n",
       "0        1          1      294  142.897266\n",
       "1        1          1      294  185.622822\n",
       "2        1          1      300  184.157551\n",
       "3        1          1      310  190.715757\n",
       "4        1          1      313  151.900865\n",
       "5        1          1      325  191.807541\n",
       "6        1          1      351  154.046201\n",
       "7        1          1      369  124.298918"
      ]
     },
     "execution_count": 8,
     "metadata": {},
     "output_type": "execute_result"
    }
   ],
   "source": [
    "df = pd.DataFrame(truth)\n",
    "df = df.rename(columns={'RiseTime':'HitTime'})\n",
    "df"
   ]
  },
  {
   "cell_type": "code",
   "execution_count": 11,
   "metadata": {},
   "outputs": [
    {
     "data": {
      "text/plain": [
       "dtype('int16')"
      ]
     },
     "execution_count": 11,
     "metadata": {},
     "output_type": "execute_result"
    }
   ],
   "source": [
    "truth['RiseTime'].dtype"
   ]
  },
  {
   "cell_type": "code",
   "execution_count": 20,
   "metadata": {},
   "outputs": [
    {
     "name": "stdout",
     "output_type": "stream",
     "text": [
      "271 2488.0000000000264\n"
     ]
    }
   ],
   "source": [
    "fig = plt.figure()\n",
    "fig.tight_layout()\n",
    "ax = fig.add_subplot(111)\n",
    "ax2 = ax.twinx()\n",
    "ax.plot(wave, label='Waveform')\n",
    "ax.hlines(2, 0, 1029, color='g', label='Threshold')\n",
    "ax2.vlines(truth['RiseTime'].min(), 0, wave.sum(), color='r', label='Record')\n",
    "print(truth['RiseTime'].min(), wave.sum())\n",
    "ax.set_xlim(100, 500)\n",
    "lines, labels = ax.get_legend_handles_labels()\n",
    "lines2, labels2 = ax2.get_legend_handles_labels()\n",
    "ax2.legend(lines + lines2, labels + labels2)\n",
    "ax.set_xlabel('$t/\\mathrm{ns}$')\n",
    "ax.set_ylabel('$Voltage/\\mathrm{mV}$')\n",
    "ax2.set_ylabel('$Charge/\\mathrm{mV}\\cdot\\mathrm{ns}$')\n",
    "ax2.annotate('$(271\\mathrm{ns}, 2488.0\\mathrm{mV}\\cdot\\mathrm{ns})$', xy=(truth['RiseTime'].min(), wave.sum()/2), xytext=(truth['RiseTime'].min()-150, wave.sum()*2/3), arrowprops=dict(facecolor='k', shrink=0.1, width=0.1, headwidth=2))\n",
    "align.yaxes(ax, 0, ax2, 0)\n",
    "fig.savefig('img/previous.png', bbox_inches='tight')\n",
    "fig.clf()\n",
    "plt.close(fig)"
   ]
  },
  {
   "cell_type": "code",
   "execution_count": 21,
   "metadata": {},
   "outputs": [],
   "source": [
    "fig = plt.figure()\n",
    "fig.tight_layout()\n",
    "ax = fig.add_subplot(111)\n",
    "ax.plot(wave, label='Waveform')\n",
    "ax.set_xlim(100, 500)\n",
    "ax.set_xlabel('$t/\\mathrm{ns}$')\n",
    "ax.set_ylabel('$Voltage/\\mathrm{mV}$')\n",
    "ax.legend()\n",
    "fig.savefig('img/wave.png', bbox_inches='tight')\n",
    "fig.clf()\n",
    "plt.close(fig)"
   ]
  },
  {
   "cell_type": "code",
   "execution_count": 22,
   "metadata": {},
   "outputs": [],
   "source": [
    "fig = plt.figure()\n",
    "fig.tight_layout()\n",
    "ax = fig.add_subplot(111)\n",
    "ax.vlines(truth['RiseTime'], 0, truth['Charge'], color='r', label='Charge')\n",
    "ax.set_xlabel('$t/\\mathrm{ns}$')\n",
    "ax.set_ylabel('$Charge/\\mathrm{mV}\\cdot\\mathrm{ns}$')\n",
    "ax.set_xlim(0, len(wave))\n",
    "ax.legend()\n",
    "fig.savefig('img/charge.png', bbox_inches='tight')\n",
    "fig.clf()\n",
    "plt.close(fig)"
   ]
  },
  {
   "cell_type": "code",
   "execution_count": 23,
   "metadata": {},
   "outputs": [],
   "source": [
    "fig = plt.figure()\n",
    "fig.tight_layout()\n",
    "ax = fig.add_subplot(111)\n",
    "ax2 = ax.twinx()\n",
    "ax.plot(wave, label='Waveform')\n",
    "ax.hlines(2, 0, 1029, color='g', label='Threshold')\n",
    "ax2.vlines(truth['RiseTime'], 0, truth['Charge'], color='r', label='Charge')\n",
    "ax.set_xlim(100, 500)\n",
    "lines, labels = ax.get_legend_handles_labels()\n",
    "lines2, labels2 = ax2.get_legend_handles_labels()\n",
    "ax2.legend(lines + lines2, labels + labels2)\n",
    "ax.set_xlabel('$t/\\mathrm{ns}$')\n",
    "ax.set_ylabel('$Voltage/\\mathrm{mV}$')\n",
    "ax2.set_ylabel('$Charge/\\mathrm{mV}\\cdot\\mathrm{ns}$')\n",
    "align.yaxes(ax, 0, ax2, 0)\n",
    "fig.savefig('img/goal.png', bbox_inches='tight')\n",
    "fig.clf()\n",
    "plt.close(fig)"
   ]
  },
  {
   "cell_type": "code",
   "execution_count": 24,
   "metadata": {},
   "outputs": [
    {
     "name": "stdout",
     "output_type": "stream",
     "text": [
      "2488.0000000000264\n",
      "2388.0511151143314\n"
     ]
    }
   ],
   "source": [
    "print(wave.sum())\n",
    "print(truth['Charge'][truth['Charge'] > 0].sum())"
   ]
  },
  {
   "cell_type": "code",
   "execution_count": 25,
   "metadata": {},
   "outputs": [],
   "source": [
    "t = np.load('/srv/waveform-analysis/dataset/jinp/Charge/ztraining-Channel05/testing_record_2020-08-02_08:22:40.npz')['arr_0']"
   ]
  },
  {
   "cell_type": "code",
   "execution_count": 26,
   "metadata": {},
   "outputs": [],
   "source": [
    "fig = plt.figure()\n",
    "ax = fig.add_subplot(111)\n",
    "ax.plot(np.arange(1, len(t)+1), t, label='W-distance', color='C1')\n",
    "ax.set_xlabel('$epoch$')\n",
    "ax.set_ylabel('$Wasserstein\\ Distance/\\mathrm{ns}$')\n",
    "ax.legend()\n",
    "ax.grid()\n",
    "fig.savefig('img/epoch.png')\n",
    "fig.clf()\n",
    "plt.close(fig)"
   ]
  },
  {
   "cell_type": "code",
   "execution_count": 27,
   "metadata": {},
   "outputs": [
    {
     "name": "stdout",
     "output_type": "stream",
     "text": [
      "PEnum is 17\n",
      "truth RiseTime = [271 272 276 278 283 284 285 287 290 293 301 306 316 331 373 489], Weight = [256.22730803  70.78286561 150.13576328 148.26017169 262.0190966\n",
      "  90.73764185 166.07706861  90.57009829 154.97070323 224.36935435\n",
      "  78.89552354 138.39822323 108.31198849 112.6873069  208.81511771\n",
      " 126.79288372]\n",
      "truth Resi-norm = 34.8072334795751\n",
      "RiseTime = [269 270 271 272 273 274 275 276 277 278 279 280 281 282 283 284 285 286\n",
      " 287 288 289 290 291 292 293 294 295 296 297 298 299 300 301 302 303 304\n",
      " 305 306 307 308 309 315 316 317 318 331 332 372 373 374 375 376 489 490], Weight = [ 20.03634467  39.59860398  53.04765725  56.71558087  51.82501605\n",
      "  49.37973363  50.60237484  57.93822208  61.6061457   60.38350449\n",
      "  55.49293967  50.60237484  54.27029846  70.16463415  89.72689345\n",
      " 101.95330552 101.95330552  95.84009949  82.39104621  73.83255777\n",
      "  72.60991656  71.38727535  72.60991656  76.27784018  76.27784018\n",
      "  65.27406932  51.82501605  44.48916881  32.26275674  28.59483312\n",
      "  26.14955071  27.37219191  27.37219191  27.37219191  23.70426829\n",
      "  24.9269095   31.04011553  34.70803915  32.26275674  26.14955071\n",
      "  18.81370347  22.48162709  22.48162709  18.81370347  18.81370347\n",
      "  20.03634467  18.81370347  28.59483312  35.93068036  37.15332157\n",
      "  32.26275674  21.25898588  21.25898588  21.25898588]\n",
      "wdist = 10.752011951828743,cdiff = 99.9488848856945\n",
      "Resi-norm = 98.96527768436265\n"
     ]
    }
   ],
   "source": [
    "pet, pwe = wff.threshold(wave, spe_pre[cid])\n",
    "pet, pwe = wff.clip(pet, pwe, 0.1)\n",
    "pwe = pwe / pwe.sum() * np.abs(wave.sum())\n",
    "fig = plt.figure()\n",
    "ax = fig.add_subplot(111)\n",
    "ax2 = ax.twinx()\n",
    "ax.plot(wave, label='Waveform')\n",
    "ax.hlines(spe_pre[cid]['thres'], 0, 1029, color='g', label='Threshold')\n",
    "ax2.vlines(pet, 0, pwe, color='r', label='Charge', linewidth=0.5)\n",
    "ax.set_xlim(100, 500)\n",
    "ax2.annotate('', xy=(pet.mean(), pwe.max()*0.7), xytext=(pet.mean()+pet.ptp()/2, pwe.max()*0.7), arrowprops=dict(facecolor='k', shrink=0.01, width=2, headwidth=4))\n",
    "lines, labels = ax.get_legend_handles_labels()\n",
    "lines2, labels2 = ax2.get_legend_handles_labels()\n",
    "ax2.legend(lines + lines2, labels + labels2)\n",
    "ax.set_xlabel('$t/\\mathrm{ns}$')\n",
    "ax.set_ylabel('$Voltage/\\mathrm{mV}$')\n",
    "ax2.set_ylabel('$Charge/\\mathrm{mV}\\cdot\\mathrm{ns}$')\n",
    "align.yaxes(ax, 0, ax2, 0)\n",
    "fig.savefig('img/threshold.png', bbox_inches='tight')\n",
    "fig.clf()\n",
    "plt.close(fig)\n",
    "wff.demo(pet, pwe, truth, spe_pre[cid], 1029, wave, cid, mode='Charge')"
   ]
  },
  {
   "cell_type": "code",
   "execution_count": 15,
   "metadata": {},
   "outputs": [
    {
     "name": "stdout",
     "output_type": "stream",
     "text": [
      "PEnum is 17\n",
      "truth RiseTime = [271 272 276 278 283 284 285 287 290 293 301 306 316 331 373 489], Weight = [256.22730803  70.78286561 150.13576328 148.26017169 262.0190966\n",
      "  90.73764185 166.07706861  90.57009829 154.97070323 224.36935435\n",
      "  78.89552354 138.39822323 108.31198849 112.6873069  208.81511771\n",
      " 126.79288372]\n",
      "truth Resi-norm = 34.8072334795751\n",
      "RiseTime = [111 272 277 284 292 298 306 315 331 341 374 388 489], Weight = [ 21.60987861 295.89912097 321.41439933 531.91544579 397.96023441\n",
      " 149.18627041 181.08036835 117.29217246 104.53453328  34.36751779\n",
      " 193.83800753  27.9886982  110.91335287]\n",
      "wdist = 4.017335197822407,cdiff = 99.9488848856954\n",
      "Resi-norm = 70.55598542154097\n"
     ]
    }
   ],
   "source": [
    "pet = np.array(stream.ChannelInfo.PeakLoc) - spe_pre[cid]['peak_c']\n",
    "pwe = np.array(stream.ChannelInfo.PeakAmp) / spe_pre[cid]['spe'].max()\n",
    "pwe = pwe[pet >= 0]; pet = pet[pet >= 0]\n",
    "pet, pwe = wff.clip(pet, pwe, 0.1)\n",
    "pwe = pwe / pwe.sum() * np.abs(wave.sum())\n",
    "fig = plt.figure()\n",
    "ax = fig.add_subplot(111)\n",
    "ax2 = ax.twinx()\n",
    "ax.plot(wave, label='Waveform')\n",
    "ax.hlines(spe_pre[cid]['thres'], 0, 1029, color='g', label='Threshold')\n",
    "ax2.vlines(pet, 0, pwe, color='r', label='Charge', linewidth=1.5)\n",
    "ax.set_xlim(100, 500)\n",
    "loc = np.array(stream.ChannelInfo.PeakLoc)\n",
    "amp = np.array(stream.ChannelInfo.PeakAmp)\n",
    "for i in range(len(np.array(stream.ChannelInfo.PeakLoc))):\n",
    "    ax.annotate('', xy=(loc[i], amp[i]+5), xytext=(loc[i], amp[i]+15), arrowprops=dict(facecolor='k', shrink=0.01, width=0.5, headwidth=1))\n",
    "lines, labels = ax.get_legend_handles_labels()\n",
    "lines2, labels2 = ax2.get_legend_handles_labels()\n",
    "ax2.legend(lines + lines2, labels + labels2)\n",
    "ax.set_xlabel('$t/\\mathrm{ns}$')\n",
    "ax.set_ylabel('$Voltage/\\mathrm{mV}$')\n",
    "ax2.set_ylabel('$Charge/\\mathrm{mV}\\cdot\\mathrm{ns}$')\n",
    "align.yaxes(ax, 0, ax2, 0)\n",
    "fig.savefig('img/findpeak.png', bbox_inches='tight')\n",
    "fig.clf()\n",
    "plt.close(fig)\n",
    "wff.demo(pet, pwe, truth, spe_pre[cid], 1029, wave, cid, mode='Charge')"
   ]
  },
  {
   "cell_type": "code",
   "execution_count": 16,
   "metadata": {},
   "outputs": [
    {
     "name": "stdout",
     "output_type": "stream",
     "text": [
      "PEnum is 17\n",
      "truth RiseTime = [271 272 276 278 283 284 285 287 290 293 301 306 316 331 373 489], Weight = [256.22730803  70.78286561 150.13576328 148.26017169 262.0190966\n",
      "  90.73764185 166.07706861  90.57009829 154.97070323 224.36935435\n",
      "  78.89552354 138.39822323 108.31198849 112.6873069  208.81511771\n",
      " 126.79288372]\n",
      "truth Resi-norm = 34.8072334795751\n",
      "RiseTime = [263 269 270 271 272 273 274 275 276 277 278 279 280 281 282 283 284 285\n",
      " 286 287 290 291 292 293 294 299 300 301 304 305 306 307 308 314 315 316\n",
      " 317 318 330 331 332 333 371 372 373 374 375 487 488 489 490 491], Weight = [ 18.89170056  51.95807347  81.67357861  86.92015698  69.85237306\n",
      "  46.46479476  34.75758364  41.62060544  58.21722722  67.50044279\n",
      "  58.38437745  35.80445106  18.57628598  25.89502331  62.0227676\n",
      " 110.6537148  143.91406482 140.47282059 100.37446995  46.05134565\n",
      "  38.37222329  78.49955417  99.62519211  87.69363104  50.09125426\n",
      "  20.84531052  24.71211089  16.66133588  19.56948302  36.31675993\n",
      "  45.64240548  39.9758616   21.23713954  22.84711872  29.48010356\n",
      "  29.5014184   24.53559426  16.49642038  22.54996904  31.95972988\n",
      "  32.10539391  21.36493801  32.49212246  57.44082899  66.99235288\n",
      "  56.13095127  30.80500087  18.13636982  29.88333818  35.05389376\n",
      "  31.11757456  19.85876159]\n",
      "wdist = 1.634778981147213,cdiff = 99.9488848856954\n",
      "Resi-norm = 41.44676510753047\n"
     ]
    }
   ],
   "source": [
    "pet, pwe = wff.waveformfft(wave, spe_pre[cid])\n",
    "pet, pwe = wff.clip(pet, pwe, 0.1)\n",
    "pwe = pwe / pwe.sum() * np.abs(wave.sum())\n",
    "fig = plt.figure()\n",
    "ax = fig.add_subplot(111)\n",
    "ax2 = ax.twinx()\n",
    "ax.plot(wave, label='Waveform')\n",
    "ax.hlines(spe_pre[cid]['thres'], 0, 1029, color='g', label='Threshold')\n",
    "ax2.vlines(pet, 0, pwe, color='r', label='Charge', linewidth=0.5)\n",
    "ax.set_xlim(100, 500)\n",
    "lines, labels = ax.get_legend_handles_labels()\n",
    "lines2, labels2 = ax2.get_legend_handles_labels()\n",
    "ax2.legend(lines + lines2, labels + labels2)\n",
    "ax.set_xlabel('$t/\\mathrm{ns}$')\n",
    "ax.set_ylabel('$Voltage/\\mathrm{mV}$')\n",
    "ax2.set_ylabel('$Charge/\\mathrm{mV}\\cdot\\mathrm{ns}$')\n",
    "align.yaxes(ax, 0, ax2, 0)\n",
    "fig.savefig('img/fftrans.png', bbox_inches='tight')\n",
    "fig.clf()\n",
    "plt.close(fig)\n",
    "wff.demo(pet, pwe, truth, spe_pre[cid], 1029, wave, cid, mode='Charge')"
   ]
  },
  {
   "cell_type": "code",
   "execution_count": 17,
   "metadata": {},
   "outputs": [
    {
     "name": "stdout",
     "output_type": "stream",
     "text": [
      "PEnum is 17\n",
      "truth RiseTime = [271 272 276 278 283 284 285 287 290 293 301 306 316 331 373 489], Weight = [256.22730803  70.78286561 150.13576328 148.26017169 262.0190966\n",
      "  90.73764185 166.07706861  90.57009829 154.97070323 224.36935435\n",
      "  78.89552354 138.39822323 108.31198849 112.6873069  208.81511771\n",
      " 126.79288372]\n",
      "truth Resi-norm = 34.8072334795751\n",
      "RiseTime = [270 271 272 273 274 275 276 277 278 279 281 282 283 284 285 286 287 288\n",
      " 289 290 291 292 293 294 300 301 305 306 307 315 316 317 330 331 332 372\n",
      " 373 374 488 489 490], Weight = [ 42.11502401 185.47167698  95.40050534  29.23257622  19.14818272\n",
      "  30.00748753  69.95923194 100.05923537  68.53987916  28.40848996\n",
      "  19.80738476  50.90970357 136.59895746 200.84013603 141.65479721\n",
      "  72.48230455  38.25103667  28.41809479  30.29773312  47.35054324\n",
      "  74.60066642 103.94031376  87.26098822  44.23204211  18.66420912\n",
      "  23.6744544   37.83840575  65.13310344  27.56286519  28.12672881\n",
      "  61.43394255  25.10506744  22.88159826  51.85412511  25.12442437\n",
      "  55.76781597 115.8624434   56.87697433  19.01342073  76.85855754\n",
      "  31.23487246]\n",
      "wdist = 1.2540950822541432,cdiff = 99.9488848856954\n",
      "Resi-norm = 42.182654367632104\n"
     ]
    }
   ],
   "source": [
    "pet, pwe = wff.lucyddm(wave, spe_pre[cid])\n",
    "pet, pwe = wff.clip(pet, pwe, 0.1)\n",
    "pwe = pwe / pwe.sum() * np.abs(wave.sum())\n",
    "fig = plt.figure()\n",
    "ax = fig.add_subplot(111)\n",
    "ax2 = ax.twinx()\n",
    "ax.plot(wave, label='Waveform')\n",
    "ax.hlines(spe_pre[cid]['thres'], 0, 1029, color='g', label='Threshold')\n",
    "ax2.vlines(pet, 0, pwe, color='r', label='Charge', linewidth=0.5)\n",
    "ax.set_xlim(100, 500)\n",
    "lines, labels = ax.get_legend_handles_labels()\n",
    "lines2, labels2 = ax2.get_legend_handles_labels()\n",
    "ax2.legend(lines + lines2, labels + labels2)\n",
    "ax.set_xlabel('$t/\\mathrm{ns}$')\n",
    "ax.set_ylabel('$Voltage/\\mathrm{mV}$')\n",
    "ax2.set_ylabel('$Charge/\\mathrm{mV}\\cdot\\mathrm{ns}$')\n",
    "fig.savefig('img/lucyddm.png', bbox_inches='tight')\n",
    "fig.clf()\n",
    "plt.close(fig)\n",
    "wff.demo(pet, pwe, truth, spe_pre[cid], 1029, wave, cid, mode='Charge')"
   ]
  },
  {
   "cell_type": "code",
   "execution_count": 18,
   "metadata": {},
   "outputs": [],
   "source": [
    "pet, pwe0 = wff.xiaopeip(wave, spe_pre[cid])\n",
    "pet, pwe0 = wff.clip(pet, pwe0, 0.1)"
   ]
  },
  {
   "cell_type": "code",
   "execution_count": 19,
   "metadata": {},
   "outputs": [
    {
     "name": "stdout",
     "output_type": "stream",
     "text": [
      "PEnum is 17\n",
      "truth RiseTime = [271 272 276 278 283 284 285 287 290 293 301 306 316 331 373 489], Weight = [256.22730803  70.78286561 150.13576328 148.26017169 262.0190966\n",
      "  90.73764185 166.07706861  90.57009829 154.97070323 224.36935435\n",
      "  78.89552354 138.39822323 108.31198849 112.6873069  208.81511771\n",
      " 126.79288372]\n",
      "truth Resi-norm = 34.8072334795751\n",
      "RiseTime = [271 272 276 277 278 280 283 284 286 289 290 293 301 306 316 331 373 489], Weight = [260.87802881  65.26760515 133.93157741  54.67775208  96.8138964\n",
      "  29.17937194 200.95889878 230.16553555 159.17313741  21.94858217\n",
      " 142.94558632 226.90802868  67.01221323 135.86870282 105.18002571\n",
      "  98.61035692 210.40607498 110.93348178]\n",
      "wdist = 1.5062452516856446,cdiff = -37.1922589851265\n",
      "Resi-norm = 35.02818278545695\n"
     ]
    }
   ],
   "source": [
    "pwe = pwe0 * spe_pre[cid]['spe'].sum()\n",
    "wff.demo(pet, pwe, truth, spe_pre[cid], 1029, wave, cid, mode='Charge', full=True)"
   ]
  },
  {
   "cell_type": "code",
   "execution_count": 12,
   "metadata": {},
   "outputs": [],
   "source": [
    "s = ['$\\mathrm{FindPeak}$', '$\\mathrm{Threshold}$', '$\\mathrm{FFT}$', '$\\mathrm{LucyDDM}$', '$\\mathrm{CNN}$', '$\\mathrm{Fitting}$']\n",
    "x = np.arange(0, 6)\n",
    "y = np.array([10.71, 3.67, 1.45, 0.93, 0.26, 0.504])\n",
    "dy = np.array([[1.32, 1.80, 0.86, 0.49, 0.065, 0.16], [24.06, 6.11, 2.12, 1.41, 0.425, 0.87]])\n",
    "dy[0, :] = y - dy[0, :]; dy[1, :] = dy[1, :] - y\n",
    "fig = plt.figure()\n",
    "ax = fig.add_subplot(111)\n",
    "ax.bar(x, y, color='b')\n",
    "ax.set_ylim(0, 26)\n",
    "ax.set_ylabel('$\\mathrm{Wasserstein}\\ \\mathrm{Distance}/\\mathrm{ns}$')\n",
    "ax.set_xticks(x)\n",
    "ax.set_xticklabels(s)\n",
    "ax.errorbar(x, y, yerr=dy, fmt='o', ecolor='r', color='b', elinewidth=2, capsize=4)\n",
    "fig.savefig('img/summarycharge.png', bbox_inches='tight')\n",
    "fig.clf()\n",
    "plt.close(fig)"
   ]
  },
  {
   "cell_type": "code",
   "execution_count": 22,
   "metadata": {},
   "outputs": [],
   "source": [
    "s = ['$\\mathrm{FindPeak}$', '$\\mathrm{Threshold}$', '$\\mathrm{FFT}$', '$\\mathrm{LucyDDM}$', '$\\mathrm{CNN}$', '$\\mathrm{Fitting}$']\n",
    "x = np.arange(0, 6)\n",
    "y = np.array([11.62, 4.69, 3.08, 2.74, 0.76, 2.46])\n",
    "dy = np.array([[2.13, 1.78, 1.04, 0.77, 0.014, 0.57], [25.16, 8.51, 5.65, 5.24, 1.78, 4.83]])\n",
    "dy[0, :] = y - dy[0, :]; dy[1, :] = dy[1, :] - y\n",
    "fig = plt.figure()\n",
    "ax = fig.add_subplot(111)\n",
    "ax.bar(x, y, color='b')\n",
    "ax.set_ylim(0, 26)\n",
    "ax.set_ylabel('$\\mathrm{Wasserstein}\\ \\mathrm{Distance}/\\mathrm{ns}$')\n",
    "ax.set_xticks(x)\n",
    "ax.set_xticklabels(s)\n",
    "ax.errorbar(x, y, yerr=dy, fmt='o', ecolor='r', color='b', elinewidth=2, capsize=4)\n",
    "fig.savefig('img/summarypenum.png', bbox_inches='tight')\n",
    "fig.clf()\n",
    "plt.close(fig)"
   ]
  },
  {
   "cell_type": "code",
   "execution_count": 36,
   "metadata": {},
   "outputs": [],
   "source": [
    "with h5py.File('spe-jinp.h5', 'r', libver='latest', swmr=True) as speFile:\n",
    "    s = speFile['SinglePE'][:]\n",
    "    a = s[s['ChannelID'] == 0]['speWf']\n",
    "    a = a[:min(10, len(a))]"
   ]
  },
  {
   "cell_type": "code",
   "execution_count": 41,
   "metadata": {},
   "outputs": [],
   "source": [
    "fig = plt.figure()\n",
    "ax = fig.add_subplot(111)\n",
    "ax.plot(a.T*-1)\n",
    "ax.set_xlabel('$t/\\mathrm{ns}$')\n",
    "ax.set_ylabel('$Voltage/\\mathrm{mV}$')\n",
    "fig.savefig('img/spewaves.png', bbox_inches='tight')\n",
    "fig.clf()\n",
    "plt.close(fig)"
   ]
  },
  {
   "cell_type": "code",
   "execution_count": null,
   "metadata": {},
   "outputs": [],
   "source": []
  }
 ],
 "metadata": {
  "kernelspec": {
   "display_name": "Python 3",
   "language": "python",
   "name": "python3"
  },
  "language_info": {
   "codemirror_mode": {
    "name": "ipython",
    "version": 3
   },
   "file_extension": ".py",
   "mimetype": "text/x-python",
   "name": "python",
   "nbconvert_exporter": "python",
   "pygments_lexer": "ipython3",
   "version": "3.6.11"
  }
 },
 "nbformat": 4,
 "nbformat_minor": 4
}
