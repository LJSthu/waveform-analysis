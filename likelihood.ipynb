{
 "cells": [
  {
   "cell_type": "code",
   "execution_count": 5,
   "metadata": {},
   "outputs": [],
   "source": [
    "%matplotlib inline\n",
    "\n",
    "import copy\n",
    "from tqdm import tqdm\n",
    "from functools import partial\n",
    "from multiprocessing import Pool, cpu_count\n",
    "import numpy as np\n",
    "import scipy.special as special\n",
    "import scipy.integrate as integrate\n",
    "import scipy.optimize as optimize\n",
    "import scipy.interpolate as interpolate\n",
    "import matplotlib.pyplot as plt\n",
    "\n",
    "import wf_func as wff"
   ]
  },
  {
   "cell_type": "code",
   "execution_count": 6,
   "metadata": {},
   "outputs": [],
   "source": [
    "panellen = 1000\n",
    "Gain = 155\n",
    "beta = 36.6\n",
    "tau = 3.895\n",
    "sigma = 1.32\n",
    "# Sigma = 40\n",
    "Sigma = 0\n",
    "spe_pre = wff.read_model('spe-jinp.h5')"
   ]
  },
  {
   "cell_type": "code",
   "execution_count": 7,
   "metadata": {},
   "outputs": [],
   "source": [
    "def wavespe(t, tau, sigma):\n",
    "    return np.where(t > 0, np.exp((sigma**2-2*tau*(t-4*sigma))/(2*tau**2)) * (1+special.erf((-sigma+(t-4*sigma)*tau/sigma)/(np.sqrt(2)*tau))) / (2*tau), 0)\n",
    "\n",
    "def glow(n, beta):\n",
    "    return np.random.exponential(beta, size=n)\n",
    "\n",
    "def noise(n, rms):\n",
    "    return np.random.normal(0, rms, n)\n",
    "\n",
    "def gain(n, Gain, Sigma):\n",
    "    return np.random.normal(Gain, Sigma, n)\n",
    "\n",
    "# def wavespe(t, tau1, tau2):\n",
    "#     return (np.exp(-t/tau1) - np.exp(-t/tau2))/(tau1 - tau2)"
   ]
  },
  {
   "cell_type": "code",
   "execution_count": 8,
   "metadata": {},
   "outputs": [
    {
     "data": {
      "text/plain": [
       "[<matplotlib.lines.Line2D at 0x7fffaf4315e0>]"
      ]
     },
     "execution_count": 8,
     "metadata": {},
     "output_type": "execute_result"
    },
    {
     "data": {
      "image/png": "[encoded data removed]",
      "text/plain": [
       "<Figure size 432x288 with 1 Axes>"
      ]
     },
     "metadata": {
      "needs_background": "light"
     },
     "output_type": "display_data"
    }
   ],
   "source": [
    "x = np.arange(0, 50, 0.1)\n",
    "plt.plot(x, wavespe(x, tau, sigma), color='r', lw=3.)\n",
    "plt.vlines(0, ymin=0, ymax=0.02, color='k')\n",
    "plt.plot(np.arange(0, 80), spe_pre[0]['spe']/np.sum(spe_pre[0]['spe']), color='b')"
   ]
  },
  {
   "cell_type": "code",
   "execution_count": 9,
   "metadata": {},
   "outputs": [],
   "source": [
    "# integrate.quad(wavespe, 0, 10000, args=(tau, sigma))"
   ]
  },
  {
   "cell_type": "code",
   "execution_count": 10,
   "metadata": {},
   "outputs": [],
   "source": [
    "popt, pcov = optimize.curve_fit(wavespe, np.arange(0, 80), spe_pre[0]['spe']/np.sum(spe_pre[0]['spe']), p0=[3, 1])"
   ]
  },
  {
   "cell_type": "code",
   "execution_count": 11,
   "metadata": {},
   "outputs": [],
   "source": [
    "waveform = np.vectorize(partial(wavespe, tau=tau, sigma=sigma))"
   ]
  },
  {
   "cell_type": "code",
   "execution_count": 12,
   "metadata": {},
   "outputs": [],
   "source": [
    "panel = np.arange(panellen)\n",
    "n = 10\n",
    "rise = np.random.uniform(100, 400)\n",
    "t = np.sort(glow(n, beta) + rise)\n",
    "t = t[t < panellen]\n",
    "charge = gain(n, Gain, Sigma)\n",
    "wf = np.sum(np.multiply(waveform(panel.reshape(1, panellen) - t.reshape(n, 1)), charge[:, None]), axis=0)\n",
    "wf = wf + noise(panellen, 1)"
   ]
  },
  {
   "cell_type": "code",
   "execution_count": 13,
   "metadata": {},
   "outputs": [
    {
     "data": {
      "text/plain": [
       "<matplotlib.collections.LineCollection at 0x7fffaf3e8310>"
      ]
     },
     "execution_count": 13,
     "metadata": {},
     "output_type": "execute_result"
    },
    {
     "data": {
      "image/png": "[encoded data removed]",
      "text/plain": [
       "<Figure size 432x288 with 1 Axes>"
      ]
     },
     "metadata": {
      "needs_background": "light"
     },
     "output_type": "display_data"
    }
   ],
   "source": [
    "plt.close()\n",
    "plt.plot(panel, wf, color='b')\n",
    "plt.vlines(t, ymin=0, ymax=20, color='k')"
   ]
  },
  {
   "cell_type": "code",
   "execution_count": 14,
   "metadata": {},
   "outputs": [],
   "source": [
    "# spe = np.mean([np.sum(np.multiply(waveform(panel.reshape(1, panellen)), gain(1, Gain, Sigma)[:, None]), axis=0) for i in range(100)], axis=0)\n",
    "# plt.close()\n",
    "# plt.plot(panel[0: 80], spe[0: 80], color='b')\n",
    "# plt.plot(np.arange(0, 80), spe_pre[0]['spe'], color='r')\n",
    "# plt.vlines(0, ymin=0, ymax=20, color='k')\n",
    "# plt.plot(x, wavespe(x, tau, sigma) * Gain, color='m', lw=3.)"
   ]
  },
  {
   "cell_type": "code",
   "execution_count": 15,
   "metadata": {},
   "outputs": [],
   "source": [
    "# spe_i = copy.deepcopy(spe_pre[0])\n",
    "# spe_i['spe'] = wavespe(np.arange(0, 80), tau, sigma) * Gain\n",
    "# pet, pwe = wff.xiaopeip(wf, spe_i)\n",
    "# pet, pwe = wff.clip(pet, pwe, 0.1)\n",
    "# pwe = pwe / pwe.sum() * np.abs(wf.sum())\n",
    "# tth = {'RiseTime' : np.around(t).astype(np.int), 'EventID' : np.zeros(n).astype(np.int), 'ChannelID' : np.zeros(n).astype(np.int), 'Charge' : charge}\n",
    "# wff.demo(pet, pwe, tth, spe_i, panellen, wf, 0, mode='Charge')"
   ]
  },
  {
   "cell_type": "code",
   "execution_count": 16,
   "metadata": {},
   "outputs": [],
   "source": [
    "# thres = 5\n",
    "# th = optimize.fsolve(lambda x : wavespe(x, tau, sigma) * Gain - thres, x0 = 3)[0]\n",
    "# x0 = np.argwhere(wf > thres)[0] - th\n",
    "# x0 = optimize.fsolve(lambda x : interpolate.interp1d(panel, wf)(x) - thres, x0 = np.argwhere(wf > thres)[0])[0] - th"
   ]
  },
  {
   "cell_type": "code",
   "execution_count": 17,
   "metadata": {},
   "outputs": [
    {
     "name": "stderr",
     "output_type": "stream",
     "text": [
      "100%|██████████| 100/100 [00:16<00:00,  5.93it/s]\n",
      "100%|██████████| 100/100 [00:01<00:00, 70.09it/s]\n"
     ]
    }
   ],
   "source": [
    "np.random.seed(0)\n",
    "N = 10000\n",
    "spe_i = copy.deepcopy(spe_pre[0])\n",
    "spe_i['spe'] = wavespe(np.arange(0, 80), tau, sigma) * Gain\n",
    "panel = np.arange(panellen)\n",
    "n = 10\n",
    "\n",
    "deltat = np.zeros(N)\n",
    "opdt = np.dtype([('Waveform', np.float, panellen), ('Rise', np.float), ('Time', np.float, n), ('Charge', np.float, n)])\n",
    "\n",
    "def simulate_batch(a, b):\n",
    "    S = np.zeros(b - a, dtype=opdt)\n",
    "    for i in tqdm(range(b - a)):\n",
    "        rise = np.random.uniform(100, 400)\n",
    "        t = np.sort(glow(n, beta) + rise)\n",
    "        charge = gain(n, Gain, Sigma)\n",
    "        wf = np.sum(np.multiply(waveform(panel.reshape(1, panellen) - t.reshape(n, 1)), charge[:, None]), axis=0)\n",
    "        S[i]['Waveform'] = wf + noise(panellen, 1.)\n",
    "        S[i]['Rise'] = rise\n",
    "        S[i]['Time'] = t\n",
    "        S[i]['Charge'] = charge\n",
    "    return S\n",
    "\n",
    "def reconstruction_batch(a, b, S):\n",
    "    deltat = np.zeros(b - a)\n",
    "    for i in tqdm(range(a, b)):\n",
    "        pet, pwe = wff.lucyddm(S[i]['Waveform'], spe_i)\n",
    "        pet, pwe = wff.clip(pet, pwe, 0.1)\n",
    "        pwe = pwe / pwe.sum() * np.abs(S[i]['Waveform'].sum())\n",
    "        deltat[i - a] = pet.min() - S[i]['Time'][0]\n",
    "    return deltat\n",
    "\n",
    "Ncpu = 1\n",
    "chunk = N // Ncpu + 1\n",
    "slices = np.vstack((np.arange(0, N, chunk), np.append(np.arange(chunk, N, chunk), N))).T.astype(np.int).tolist()\n",
    "\n",
    "with Pool(min(Ncpu, cpu_count())) as pool:\n",
    "    S = np.hstack(pool.starmap(simulate_batch, slices))\n",
    "    \n",
    "with Pool(min(Ncpu, cpu_count())) as pool:\n",
    "    deltat = np.concatenate(pool.starmap(partial(reconstruction_batch, S=S), slices))"
   ]
  },
  {
   "cell_type": "code",
   "execution_count": 18,
   "metadata": {},
   "outputs": [
    {
     "data": {
      "image/png": "[encoded data removed]",
      "text/plain": [
       "<Figure size 432x288 with 1 Axes>"
      ]
     },
     "metadata": {
      "needs_background": "light"
     },
     "output_type": "display_data"
    }
   ],
   "source": [
    "plt.close()\n",
    "plt.hist(deltat, bins=100)\n",
    "plt.savefig('likelihood.png')"
   ]
  },
  {
   "cell_type": "code",
   "execution_count": 19,
   "metadata": {},
   "outputs": [
    {
     "name": "stdout",
     "output_type": "stream",
     "text": [
      "PEnum is 4\n",
      "truth RiseTime = [245 246 249 251 257 277 284 299 300 312], Weight = [155. 155. 155. 155. 155. 155. 155. 155. 155. 155.]\n",
      "truth Resi-norm = 34.611717802573466\n",
      "RiseTime = [245 246 247 248 249 250 251 252 253 255 256 257 258 277 278 283 284 285\n",
      " 298 299 300 311 312 313], Weight = [ 99.69858614 128.95053763  69.69503989  50.5222586   58.29818791\n",
      "  81.2943225   71.86599775  39.79369466  18.02519173  18.81781347\n",
      "  41.66411564  55.79772789  31.48443736  88.13431075  60.68624973\n",
      "  39.91710371  69.78131912  38.96210247  34.23516151 175.93461878\n",
      "  95.18535173  41.84309935  83.90652392  29.11847431]\n",
      "wdist = 0.5949879582799137,cdiff = -26.38777344534219\n",
      "Resi-norm = 33.03623135134399\n"
     ]
    }
   ],
   "source": [
    "i = np.argmax(deltat)\n",
    "pet, pwe = wff.lucyddm(S[i]['Waveform'], spe_i)\n",
    "pet, pwe = wff.clip(pet, pwe, 0.1)\n",
    "pwe = pwe / pwe.sum() * np.abs(S[i]['Waveform'].sum())\n",
    "tth = {'RiseTime' : np.around(S[i]['Time']).astype(np.int), \n",
    "       'EventID' : np.zeros(n).astype(np.int), \n",
    "       'ChannelID' : np.zeros(n).astype(np.int), \n",
    "       'Charge' : S[i]['Charge']}\n",
    "wff.demo(pet, pwe, tth, spe_i, panellen, S[i]['Waveform'], 0, mode='Charge')"
   ]
  },
  {
   "cell_type": "code",
   "execution_count": 28,
   "metadata": {},
   "outputs": [],
   "source": [
    "tau = 36.6\n",
    "sigma = 2.5\n",
    "def convolve_exp_norm(x, tau, sigma):\n",
    "    alpha = 1/tau\n",
    "    co = alpha/2. * np.exp(alpha*alpha*sigma*sigma/2.)\n",
    "    x_erf = (alpha*sigma*sigma - x)/(np.sqrt(2.)*sigma)\n",
    "    y = co * np.exp(-alpha*x) * (1. - special.erf(x_erf))\n",
    "    return y"
   ]
  },
  {
   "cell_type": "code",
   "execution_count": 29,
   "metadata": {},
   "outputs": [
    {
     "data": {
      "text/plain": [
       "(0.999999519042436, 1.0339804117076579e-09)"
      ]
     },
     "execution_count": 29,
     "metadata": {},
     "output_type": "execute_result"
    }
   ],
   "source": [
    "integrate.quad(convolve_exp_norm, -10, 1000, args=(tau, sigma))"
   ]
  },
  {
   "cell_type": "code",
   "execution_count": 43,
   "metadata": {},
   "outputs": [
    {
     "data": {
      "text/plain": [
       "[<matplotlib.lines.Line2D at 0x7fffb2549e80>]"
      ]
     },
     "execution_count": 43,
     "metadata": {},
     "output_type": "execute_result"
    },
    {
     "data": {
      "image/png": "[encoded data removed]",
      "text/plain": [
       "<Figure size 432x288 with 1 Axes>"
      ]
     },
     "metadata": {
      "needs_background": "light"
     },
     "output_type": "display_data"
    }
   ],
   "source": [
    "a = np.arange(-10, 200)\n",
    "plt.close()\n",
    "plt.plot(a, convolve_exp_norm(a, tau, sigma))"
   ]
  },
  {
   "cell_type": "code",
   "execution_count": null,
   "metadata": {},
   "outputs": [],
   "source": []
  }
 ],
 "metadata": {
  "kernelspec": {
   "display_name": "Python 3",
   "language": "python",
   "name": "python3"
  },
  "language_info": {
   "codemirror_mode": {
    "name": "ipython",
    "version": 3
   },
   "file_extension": ".py",
   "mimetype": "text/x-python",
   "name": "python",
   "nbconvert_exporter": "python",
   "pygments_lexer": "ipython3",
   "version": "3.8.5"
  }
 },
 "nbformat": 4,
 "nbformat_minor": 4
}
