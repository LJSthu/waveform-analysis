{
 "cells": [
  {
   "cell_type": "code",
   "execution_count": 1,
   "metadata": {},
   "outputs": [],
   "source": [
    "import math\n",
    "\n",
    "import h5py\n",
    "import numpy as np\n",
    "import matplotlib.pyplot as plt\n",
    "from matplotlib import cm\n",
    "from matplotlib.colors import ListedColormap\n",
    "import scipy.special as special\n",
    "from scipy.stats import poisson, uniform, norm\n",
    "import matplotlib.gridspec as gridspec\n",
    "from tqdm import tqdm\n",
    "from mpl_axes_aligner import align\n",
    "from multiprocessing import Pool, cpu_count\n",
    "from functools import partial\n",
    "from scipy.signal import savgol_filter\n",
    "\n",
    "import wf_func as wff\n",
    "\n",
    "import matplotlib\n",
    "# matplotlib.use('Agg')\n",
    "# %matplotlib inline"
   ]
  },
  {
   "cell_type": "code",
   "execution_count": 2,
   "metadata": {},
   "outputs": [],
   "source": [
    "def my_cmap():\n",
    "    plasma = cm.get_cmap('plasma', 65536)\n",
    "    newcolors = plasma(np.linspace(0, 1, 65536))\n",
    "    white = np.array([65535/65536, 65535/65536, 65535/65536, 1])\n",
    "    newcolors[:1, :] = white\n",
    "    newcmp = ListedColormap(newcolors)\n",
    "    return newcmp"
   ]
  },
  {
   "cell_type": "markdown",
   "metadata": {},
   "source": [
    "# 模拟中的时间分布"
   ]
  },
  {
   "cell_type": "code",
   "execution_count": 3,
   "metadata": {},
   "outputs": [],
   "source": [
    "methods = ['lucyddm', 'xiaopeip', 'takara', 'mcmc', 'fbmp']\n",
    "labels = {'truth':'\\mathrm{Truth}', 'lucyddm':'\\mathrm{LucyDDM}', 'xiaopeip':'\\mathrm{Fitting}', 'takara':'\\mathrm{CNN}', 'fbmp':'\\mathrm{FBMP}', 'fbmpwave':'\\mathrm{FBMP}', 'mcmc':'\\mathrm{MCMC}', 'mcmcwave':'\\mathrm{MCMC}'}\n",
    "\n",
    "para = '20-20-05'\n",
    "[Mu, Tau, Sigma] = [int(i) for i in para.split('-')]\n",
    "wf = h5py.File('waveform/' + para + '.h5', 'r', libver='latest', swmr=True)\n",
    "spe_pre = wff.read_model('spe.h5', wff.nshannon)\n",
    "p = spe_pre[0]['parameters']\n",
    "mycmp = my_cmap()\n",
    "colors = {'truth':'k', 'lucyddm':'g', 'xiaopeip':'m', 'takara':'y', 'mcmc':'r', 'fbmp':'b', 'threshold':'c', 'omp':'C1'}\n",
    "t0 = wf['SimTruth/T']\n",
    "pelist = wf['SimTriggerInfo/PEList']\n",
    "wave = wf['Readout/Waveform']"
   ]
  },
  {
   "cell_type": "code",
   "execution_count": 4,
   "metadata": {},
   "outputs": [],
   "source": [
    "plt.close()\n",
    "fig = plt.figure(figsize=(12, 8))\n",
    "ax = fig.add_subplot()\n",
    "t = np.arange(-40, 120, 0.1)\n",
    "ax.plot(t, wff.convolve_exp_norm(t, Tau, Sigma), label='Time Profile')\n",
    "ax.hist(pelist['HitPosInWindow'] - np.repeat(t0['T0'], np.unique(pelist['TriggerNo'], return_counts=True)[1]), bins=200, alpha=0.5, label='SimCharge', density=True, color=colors['truth'])\n",
    "ax.set_xlim(-30, 100)\n",
    "ax.legend()\n",
    "ax.set_xlabel('t/ns')\n",
    "plt.show()"
   ]
  },
  {
   "cell_type": "markdown",
   "metadata": {},
   "source": [
    "# 模拟中的波形分布"
   ]
  },
  {
   "cell_type": "code",
   "execution_count": 5,
   "metadata": {},
   "outputs": [
    {
     "name": "stderr",
     "output_type": "stream",
     "text": [
      "100%|██████████| 10000/10000 [00:02<00:00, 3421.96it/s]\n"
     ]
    }
   ],
   "source": [
    "t = np.arange(-100, 929, 1)\n",
    "s = np.arange(-100, 300, 1)\n",
    "pan = np.zeros(len(t))\n",
    "for i in tqdm(range(len(wave))):\n",
    "    ti = int(np.round(t0[i]['T0']).item())\n",
    "    w = wave[i]['Waveform']\n",
    "    w = np.hstack([w[ti - 100:], w[:ti - 100]])\n",
    "    pan = pan + w\n",
    "plt.close()\n",
    "fig = plt.figure(figsize=(12, 8))\n",
    "ax = fig.add_subplot()\n",
    "b = (wff.convolve_exp_norm(s, Tau, Sigma)[:, None] * wff.spe(t - s[:, None], tau=p[0], sigma=p[1], A=p[2])).sum(axis=0)\n",
    "ax.plot(t, b / b.sum(), 'r-o', label='convolve')\n",
    "ax.plot(t, wff.convolve_exp_norm(t, Tau, Sigma), 'b-+', label='profile')\n",
    "ax.plot(t, wff.spe(t, tau=p[0], sigma=p[1], A=p[2]) / 160, 'g-.', label='spe')\n",
    "ax.plot(t, pan / pan.sum(), 'y--.', label='sim')\n",
    "ax.set_ylabel('PDF')\n",
    "ax.set_xlim(-50, 100)\n",
    "ax.set_xlabel('t/ns')\n",
    "ax.legend()\n",
    "plt.savefig('t.png')"
   ]
  },
  {
   "cell_type": "markdown",
   "metadata": {},
   "source": [
    "# 模拟中的电荷分布"
   ]
  },
  {
   "cell_type": "code",
   "execution_count": 6,
   "metadata": {},
   "outputs": [],
   "source": [
    "plt.close()\n",
    "fig = plt.figure(figsize=(12, 8))\n",
    "ax = fig.add_subplot()\n",
    "t = np.arange(0, 1000, 0.1)\n",
    "ax.plot(t, norm.pdf(t, loc=160., scale=40.) / (1 - norm.cdf(0, loc=160., scale=40.)), label='ChargePDF')\n",
    "ax.hist(pelist['Charge'], bins=200, alpha=0.5, label='SimCharge', density=True, color=colors['truth'])\n",
    "ax.set_xlim(0, 400)\n",
    "ax.legend()\n",
    "ax.set_xlabel('Charge/mV·ns')\n",
    "plt.show()"
   ]
  },
  {
   "cell_type": "markdown",
   "metadata": {},
   "source": [
    "# 重建结果的时间分布"
   ]
  },
  {
   "cell_type": "code",
   "execution_count": 8,
   "metadata": {},
   "outputs": [],
   "source": [
    "plt.close()\n",
    "fig = plt.figure(figsize=(12, 8))\n",
    "ax = fig.add_subplot()\n",
    "t = np.arange(-40, 120, 0.1)\n",
    "ax.plot(t, wff.convolve_exp_norm(t, Tau, Sigma), label='Time Profile', color=colors['truth'])\n",
    "for m in methods:\n",
    "    so = h5py.File('result/' + m + '/solu/' + para + '.h5', 'r', libver='latest', swmr=True)\n",
    "    ch = h5py.File('result/' + m + '/char/' + para + '.h5', 'r', libver='latest', swmr=True)\n",
    "    solut0 = so['starttime']\n",
    "    chargepelist = ch['photoelectron']\n",
    "    ax.hist(chargepelist['HitPosInWindow'] - np.repeat(solut0['tscharge'] if m != 'fbmp' else solut0['tscharge'][:, 0], np.unique(chargepelist['TriggerNo'], return_counts=True)[1]), bins=200, alpha=0.5, label=m, density=True, color=colors[m])\n",
    "ax.set_xlim(-30, 100)\n",
    "ax.legend()\n",
    "ax.set_xlabel('t/ns')\n",
    "ax.set_ylabel('Normalized Count')\n",
    "plt.show()"
   ]
  },
  {
   "cell_type": "markdown",
   "metadata": {},
   "source": [
    "# 重建结果的电荷分布"
   ]
  },
  {
   "cell_type": "code",
   "execution_count": 9,
   "metadata": {},
   "outputs": [],
   "source": [
    "plt.close()\n",
    "fig = plt.figure(figsize=(12, 6))\n",
    "ax = fig.add_subplot()\n",
    "t = np.arange(0, 1000, 0.1)\n",
    "ax.plot(t, norm.pdf(t, loc=160., scale=40.) / (1 - norm.cdf(0, loc=160., scale=40.)), label='$\\mathrm{ChargePDF}$', color=colors['truth'])\n",
    "th = 160 * 5 * 1e-4\n",
    "for m in methods:\n",
    "    ch = h5py.File('result/' + m + '/char/' + para + '.h5', 'r', libver='latest', swmr=True)\n",
    "    cha = ch['photoelectron']['Charge']\n",
    "    ax.hist(cha[cha > th], bins=np.arange(th, 400, 5), alpha=0.5, label='$'+labels[m]+'$', density=True, color=colors[m])\n",
    "ax.set_xlim(0, 350)\n",
    "ax.set_ylim(0, 0.013)\n",
    "ax.legend()\n",
    "ax.set_xlabel('$\\mathrm{Charge}/\\si{mV\\cdot ns}$')\n",
    "ax.set_ylabel('Normalized Count')\n",
    "plt.savefig('Note/figures/recchargehist.png')\n",
    "plt.savefig('Note/figures/recchargehist.pdf')\n",
    "plt.savefig('Note/figures/recchargehist.pgf')\n",
    "plt.show()"
   ]
  },
  {
   "cell_type": "code",
   "execution_count": 16,
   "metadata": {},
   "outputs": [],
   "source": [
    "plt.close()\n",
    "fig = plt.figure(figsize=(12, 6))\n",
    "ax = fig.add_subplot()\n",
    "t = np.arange(0, 1000, 0.1)\n",
    "ax.plot(t, norm.pdf(t, loc=160., scale=40.) / (1 - norm.cdf(0, loc=160., scale=40.)), label='$\\mathrm{ChargePDF}$', color=colors['truth'])\n",
    "th = 160 * 5 * 1e-4\n",
    "for m in methods:\n",
    "    wa = h5py.File('waveform/' + para + '.h5', 'r', libver='latest', swmr=True)\n",
    "    ch = h5py.File('result/' + m + '/char/' + para + '.h5', 'r', libver='latest', swmr=True)\n",
    "    so = h5py.File('result/' + m + '/solu/' + para + '.h5', 'r', libver='latest', swmr=True)\n",
    "    wav = wa['SimTruth/T'][:]\n",
    "    sol = so['starttime'][:]\n",
    "    tr = sol['TriggerNo'][np.abs(sol['tscharge'] if m != 'fbmp' else sol['tscharge'][:, 0] - wav['T0']) > 3]\n",
    "    cha = ch['photoelectron'][:]\n",
    "    cha = cha[np.isin(cha['TriggerNo'], tr)]\n",
    "    ax.hist(cha['Charge'][cha['Charge'] > th], bins=np.arange(th, 400, 5), alpha=0.5, label='$'+labels[m]+'$', density=True, color=colors[m])\n",
    "ax.set_xlim(0, 350)\n",
    "ax.set_ylim(0, 0.013)\n",
    "ax.legend()\n",
    "ax.set_xlabel('$\\mathrm{Charge}/\\si{mV\\cdot ns}$')\n",
    "ax.set_ylabel('Normalized Count')\n",
    "plt.savefig('./recchargehist.png')\n",
    "plt.show()"
   ]
  },
  {
   "cell_type": "code",
   "execution_count": 29,
   "metadata": {},
   "outputs": [],
   "source": [
    "plt.close()\n",
    "fig = plt.figure(figsize=(8, 8))\n",
    "ax = fig.add_subplot()\n",
    "wa = h5py.File('waveform/' + para + '.h5', 'r', libver='latest', swmr=True)\n",
    "ch = h5py.File('result/' + 'fbmp' + '/char/' + para + '.h5', 'r', libver='latest', swmr=True)\n",
    "so = h5py.File('result/' + 'fbmp' + '/solu/' + para + '.h5', 'r', libver='latest', swmr=True)\n",
    "wav = wa['SimTruth/T'][:]\n",
    "sol = so['starttime'][:]\n",
    "n = 7\n",
    "thso = h5py.File('result/' + 'threshold' + '/solu/' + para + '.h5', 'r', libver='latest', swmr=True)\n",
    "thsol = thso['starttime'][:]\n",
    "ax.scatter(np.abs(sol['tscharge'][:, 0] - wav['T0'])[np.abs(sol['tscharge'][:, 0] - wav['T0']) > n], np.abs(thsol['tscharge'] - wav['T0'])[np.abs(sol['tscharge'][:, 0] - wav['T0']) > n])\n",
    "ax.grid()\n",
    "ax.set_xlabel('$\\Delta t_{\\mathrm{FBMP}}/\\si{ns}$')\n",
    "ax.set_ylabel('$\\Delta t_{\\mathrm{Shift}}/\\si{ns}$')\n",
    "plt.savefig('./t1.png')\n",
    "plt.show()"
   ]
  },
  {
   "cell_type": "markdown",
   "metadata": {},
   "source": [
    "# 单事例分析"
   ]
  },
  {
   "cell_type": "code",
   "execution_count": null,
   "metadata": {},
   "outputs": [],
   "source": [
    "# methods = ['mcmc']\n",
    "i = 5\n",
    "pan = np.arange(len(wave[i]['Waveform']))\n",
    "ind = np.argwhere(wave[i]['Waveform'] > spe_pre[0]['std'] * 5).flatten()\n",
    "xmin = ((ind.min() - spe_pre[0]['mar_l']) // 50) * 50\n",
    "xmax = max(((ind.max() + spe_pre[0]['mar_r']) // 50 + 1) * 50, xmin + 150)\n",
    "plt.close()\n",
    "fig = plt.figure(figsize=(9, 6))\n",
    "ax = fig.add_subplot()\n",
    "truth = pelist[pelist['TriggerNo'] == i]\n",
    "ax2 = ax.twinx()\n",
    "ax2.plot(wave[i]['Waveform'], color=colors['truth'])\n",
    "for m, mi in zip(methods, list(range(len(methods)))):\n",
    "    ch = h5py.File('result/' + m + '/char/' + para + '.h5', 'r', libver='latest', swmr=True)\n",
    "    charge = ch['photoelectron'][ch['photoelectron']['TriggerNo'] == i]\n",
    "    wav_sub = np.sum([np.where(pan > charge['HitPosInWindow'][j], wff.spe(pan - charge['HitPosInWindow'][j], tau=p[0], sigma=p[1], A=p[2]) * charge['Charge'][j], 0) for j in range(len(charge['HitPosInWindow']))], axis=0) / np.sum(spe_pre[0]['spe'])\n",
    "    ax.vlines(charge['HitPosInWindow'], ymin=0, ymax=charge['Charge'], label=m, color=colors[m], linewidth=3)\n",
    "    ax2.plot(wav_sub, color=colors[m])\n",
    "ax.vlines(truth['HitPosInWindow'], ymin=0, ymax=truth['Charge'], label='truth', color=colors['truth'])\n",
    "ax.set_xlim(xmin, xmax)\n",
    "lines, xlabels = ax.get_legend_handles_labels()\n",
    "lines2, xlabels2 = ax2.get_legend_handles_labels()\n",
    "ax2.legend(lines + lines2, xlabels + xlabels2)\n",
    "align.yaxes(ax, 0, ax2, 0)\n",
    "ax.set_xlabel('t/ns')\n",
    "ax.set_ylabel('Charge/mV·ns')\n",
    "ax2.set_ylabel('Voltage/mV')\n",
    "plt.savefig('waveformdemo.png')\n",
    "plt.show()"
   ]
  },
  {
   "cell_type": "markdown",
   "metadata": {},
   "source": [
    "# 检查各方法的稀疏性"
   ]
  },
  {
   "cell_type": "markdown",
   "metadata": {},
   "source": [
    "# 探索针对稀疏参数的优化方法"
   ]
  },
  {
   "cell_type": "raw",
   "metadata": {},
   "source": [
    "plt.close()\n",
    "fig = plt.figure(figsize=(16, math.ceil(len(methods) / 2) * 4 * 2))\n",
    "for m, mi in zip(methods, list(range(len(methods)))):\n",
    "    ch = h5py.File('result/' + m + '/char/' + para + '.h5', 'r', libver='latest', swmr=True)\n",
    "    chargepelist = ch['photoelectron']\n",
    "    e_tru, i_tru = np.unique(pelist['TriggerNo'], return_index=True)\n",
    "    i_tru = np.append(i_tru, len(pelist))\n",
    "    e_cha, i_cha = np.unique(chargepelist['TriggerNo'], return_index=True)\n",
    "    i_cha = np.append(i_cha, len(chargepelist))\n",
    "    gs = gridspec.GridSpec(math.ceil(len(methods) / 2) * 2, 2, figure=fig, left=0.1, right=0.9, top=0.9, bottom=0.1, wspace=0.2, hspace=0.25)\n",
    "    ax1 = fig.add_subplot(gs[mi // 2, mi % 2])\n",
    "    ax2 = fig.add_subplot(gs[mi // 2 + math.ceil(len(methods) / 2), mi % 2])\n",
    "    for n in [0, 1, 2, 3, 4, 5]:\n",
    "        s = np.empty(len(wave))\n",
    "        oldl = np.empty(len(wave))\n",
    "        newl = np.empty(len(wave))\n",
    "        for i in tqdm(range(len(wave))):\n",
    "            truthlisti = pelist[i_tru[i]:i_tru[i+1]]\n",
    "            chargelisti = chargepelist[i_cha[i]:i_cha[i+1]]\n",
    "            truthhit = np.unique(np.floor(truthlisti['HitPosInWindow']))\n",
    "            aug_chargelisti = np.hstack(chargelisti['HitPosInWindow'][:, None] + np.arange(-n, n+1))\n",
    "            chargehit = np.unique(np.floor(aug_chargelisti))\n",
    "            s[i] = len(truthhit) - np.sum(np.isin(truthhit, chargehit))\n",
    "#             s[i] = np.min(np.abs(truthhit[:, None] - chargehit), axis=1).sum()\n",
    "            oldl[i] = np.clip(chargelisti['HitPosInWindow'].max() + round(3 * spe_pre[0]['mar_l']), 0, 1029) - np.clip(chargelisti['HitPosInWindow'].min() - round(3 * spe_pre[0]['mar_l']), 0, 1029)\n",
    "            newl[i] = len(chargehit)\n",
    "        di, ci = np.unique(s, return_counts=True)\n",
    "        ax1.bar(di + n/10, ci, label='n = {}'.format(n), alpha=0.6)\n",
    "#         di, ci = np.unique(oldl - newl, return_counts=True)\n",
    "        di, ci = np.unique(newl, return_counts=True)\n",
    "        ax2.bar(di + n/10, ci, label='n = {}'.format(n), alpha=0.6)\n",
    "#         ax2.hist(1 - newl / oldl, bins=50, label='n = {}'.format(n), alpha=0.6)\n",
    "    ax1.legend()\n",
    "    ax1.set_yscale('log')\n",
    "    ax1.set_title(m)\n",
    "    ax1.set_ylim(1, 1e4)\n",
    "    ax1.set_xlim(0, 20)\n",
    "    ax2.legend()\n",
    "    ax2.set_title(m)\n",
    "#     ax2.set_xlim(0, 1)\n",
    "#     ax2.set_ylim(top=1e3)\n",
    "# plt.savefig('op.png')"
   ]
  },
  {
   "cell_type": "markdown",
   "metadata": {},
   "source": [
    "# 检查 MCMC 中 A 的值"
   ]
  },
  {
   "cell_type": "raw",
   "metadata": {},
   "source": [
    "ch = h5py.File('result/mcmc/char/' + para + '.h5', 'r', libver='latest', swmr=True)\n",
    "cha = ch['photoelectron']\n",
    "'{:.2%}'.format((cha['Charge'] < 5 * 1e-4 * 160).sum() / len(cha))"
   ]
  },
  {
   "cell_type": "markdown",
   "metadata": {},
   "source": [
    "# 检查单光电子响应的频域"
   ]
  },
  {
   "cell_type": "raw",
   "metadata": {},
   "source": [
    "spe_pre_t = wff.read_model('spe.h5', 1)\n",
    "plt.close()\n",
    "fig = plt.figure(figsize=(12, 8))\n",
    "ax = fig.add_subplot()\n",
    "ax.plot(np.abs(np.fft.rfft(spe_pre_t[0]['spe'])))\n",
    "ax.plot(np.abs(np.fft.rfft(wff.shannon_interpolation(spe_pre_t[0]['spe'], 5))) / 5)\n",
    "plt.show()"
   ]
  },
  {
   "cell_type": "raw",
   "metadata": {},
   "source": [
    "cha_ans = truth['Charge']\n",
    "pet_ans = truth['HitPosInWindow']\n",
    "plt.close()\n",
    "fig = plt.figure(figsize=(12, 8))\n",
    "ax = fig.add_subplot()\n",
    "ax.plot(np.arange(0, len(wave[i]['Waveform']), 1 / 5), wff.shannon_interpolation(wave[i]['Waveform'], 5))\n",
    "ax.plot(wave[i]['Waveform'])\n",
    "\n",
    "pan = np.arange(0, len(wave[i]['Waveform']), 0.1)\n",
    "wave_tru = np.sum([np.where(pan > pet_ans[j], wff.spe(pan - pet_ans[j], tau=p[0], sigma=p[1], A=p[2]) * cha_ans[j] / spe_pre[0]['spe'].sum() * 1, 0) for j in range(len(pet_ans))], axis=0)\n",
    "ax.plot(pan, wave_tru)\n",
    "\n",
    "# ax.set_xlim(480, 650)\n",
    "plt.show()"
   ]
  },
  {
   "cell_type": "raw",
   "metadata": {},
   "source": [
    "plt.close()\n",
    "fig = plt.figure(figsize=(12, 8))\n",
    "ax = fig.add_subplot()\n",
    "ax.hist(wff.shannon_interpolation(np.random.normal(0, 1, size=10000), 5), bins=np.arange(-10, 10, 0.2), alpha=0.5, density=True)\n",
    "ax.hist(np.random.normal(0, 1, size=10000), bins=np.arange(-10, 10, 0.2), alpha=0.5, density=True)\n",
    "plt.show()"
   ]
  },
  {
   "cell_type": "raw",
   "metadata": {},
   "source": [
    "plt.close()\n",
    "fig = plt.figure(figsize=(12, 8))\n",
    "ax = fig.add_subplot()\n",
    "ax.plot(np.random.choice(wff.shannon_interpolation(np.random.normal(0, 1, size=1000), 5), 1000))\n",
    "ax.plot(np.random.normal(0, 1, size=1000))\n",
    "plt.show()"
   ]
  },
  {
   "cell_type": "raw",
   "metadata": {},
   "source": [
    "spe_pre_1 = wff.read_model('spe.h5', 10)\n",
    "spe_pre_5 = wff.read_model('spe.h5', 500)\n",
    "fig = plt.figure(figsize=(12, 8))\n",
    "ax = fig.add_subplot()\n",
    "ax.hist(spe_pre_1[0]['spe'], bins=np.arange(0, 20, 0.2), alpha=0.5, density=True)\n",
    "ax.hist(spe_pre_5[0]['spe'], bins=np.arange(0, 20, 0.2), alpha=0.5, density=True)\n",
    "plt.show()"
   ]
  },
  {
   "cell_type": "code",
   "execution_count": null,
   "metadata": {},
   "outputs": [],
   "source": [
    "with h5py.File('waveform/' + para + '.h5', 'r', libver='latest', swmr=True) as ipt:\n",
    "    ent = ipt['Readout/Waveform'][:]\n",
    "    tru = ipt['SimTriggerInfo/PEList'][:]\n",
    "    gmu = ipt['SimTriggerInfo/PEList'].attrs['gmu']\n",
    "    gsigma = ipt['SimTriggerInfo/PEList'].attrs['gsigma']\n",
    "    npe = ipt['SimTruth/T'].attrs['npe']"
   ]
  },
  {
   "cell_type": "raw",
   "metadata": {},
   "source": [
    "i = 136\n",
    "cid = ent[i]['ChannelID']\n",
    "eid = ent[i]['TriggerNo']\n",
    "truth = np.sort(tru[(tru['TriggerNo'] == eid) & (tru['PMTId'] == cid)], kind='stable', order=['TriggerNo', 'PMTId', 'HitPosInWindow'])\n",
    "wave = ent[i]['Waveform'].astype(np.float) * spe_pre[ent[i]['ChannelID']]['epulse']\n",
    "ind = np.argwhere(wave > spe_pre[cid]['std'] * 5).flatten()\n",
    "xmin = ((ind.min() - spe_pre[cid]['mar_l']) // 50 - 1) * 50\n",
    "xmax = max(((ind.max() + spe_pre[cid]['mar_r']) // 50 + 1) * 50, xmin + 400)\n",
    "spe_pre_fbmp = wff.read_model('spe.h5', wff.nshannon)\n",
    "p = spe_pre_fbmp[cid]['parameters']\n",
    "nsp = 4\n",
    "nstd = 3\n",
    "D = 100\n",
    "factor = np.linalg.norm(spe_pre_fbmp[cid]['spe'])\n",
    "A, wave_r, tlist, t0_init, t0_init_delta, char_init, n = wff.initial_params(wave, spe_pre_fbmp[cid], Mu, Tau, Sigma, gmu, gsigma, 0.2, npe, p, nsp, nstd, is_t0=True, is_delta=False, nshannon=wff.nshannon)\n",
    "A = A / factor\n",
    "xmmse, xmmse_star, psy_star, nu_star, T_star, d_tot_i, d_max_i = wff.fbmpr_fxn_reduced(wave_r, A, min(-1e-3+1, Mu / len(tlist)), spe_pre_fbmp[cid]['std'] ** 2, (gsigma * factor / gmu) ** 2, factor, D, stop=0)\n",
    "xmmse_most = xmmse_star[0]\n",
    "pet = tlist[xmmse_most > 0]\n",
    "cha = xmmse_most[xmmse_most > 0] / factor\n",
    "pet, pwe = wff.clip(pet, cha, 0.0)\n",
    "pwe = pwe * gmu\n",
    "fig = plt.figure()\n",
    "# fig.tight_layout()\n",
    "ax = fig.add_subplot(111)\n",
    "ax2 = ax.twinx()\n",
    "ax2.vlines(pet, 0, pwe, color='r', label='Charge', linewidth=0.5)\n",
    "ax.plot(wave, label='Waveform')\n",
    "ax.hlines(5 * spe_pre_fbmp[cid]['std'], 0, 1029, color='g', label='Threshold')\n",
    "ax.set_xlim(xmin, xmax)\n",
    "lines, labels = ax.get_legend_handles_labels()\n",
    "lines2, labels2 = ax2.get_legend_handles_labels()\n",
    "ax2.legend(lines + lines2, labels + labels2)\n",
    "ax.set_xlabel(r'$t/\\mathrm{ns}$')\n",
    "ax.set_ylabel(r'$Voltage/\\mathrm{mV}$')\n",
    "ax2.set_ylabel(r'$Charge/\\mathrm{mV}\\cdot\\mathrm{ns}$')\n",
    "align.yaxes(ax, 0, ax2, 0)\n",
    "fig.savefig('./fbmp.pdf')\n",
    "fig.clf()\n",
    "plt.close(fig)\n",
    "wff.demo(pet, pwe, truth, spe_pre_fbmp[cid], 1029, wave, cid, p, fold='.', n=wff.nshannon)"
   ]
  },
  {
   "cell_type": "markdown",
   "metadata": {},
   "source": [
    "# 检查初始化"
   ]
  },
  {
   "cell_type": "code",
   "execution_count": null,
   "metadata": {},
   "outputs": [],
   "source": [
    "spe_pre = wff.read_model('spe.h5', wff.nshannon)\n",
    "chunk = len(ent) // 100 + 1\n",
    "slices = np.vstack((np.arange(0, len(ent), chunk), np.append(np.arange(chunk, len(ent), chunk), len(ent)))).T.astype(int).tolist()\n",
    "\n",
    "def test(a0, a1):\n",
    "    l = a1 - a0\n",
    "    s = np.zeros(l).astype(int)\n",
    "    r = np.zeros(l).astype(int)\n",
    "    w = np.zeros(int(l * 0.1))\n",
    "    start = 0\n",
    "    end = 0\n",
    "    for i in range(a0, a1):\n",
    "        cid = ent[i]['ChannelID']\n",
    "        eid = ent[i]['TriggerNo']\n",
    "\n",
    "        A, wave_r, tlist, t0_init, t0_init_delta, char_init, n = wff.initial_params(ent[i]['Waveform'], spe_pre[cid], Mu, Tau, Sigma, 160., 40., 0.1, 3, spe_pre[0]['parameters'], 4, 3, is_t0=True, is_delta=False, nshannon=wff.nshannon)\n",
    "        truth = np.sort(tru[(tru['TriggerNo'] == eid) & (tru['PMTId'] == cid)], kind='stable', order=['TriggerNo', 'PMTId', 'HitPosInWindow'])\n",
    "        truth_time = np.round(truth['HitPosInWindow']).astype(int)\n",
    "        s[i - a0] = len(truth_time) - np.isin(truth_time, tlist).sum().astype(int)\n",
    "        r[i - a0] = len(tlist)\n",
    "        t = truth['Charge'][np.logical_not(np.isin(truth_time, tlist))]\n",
    "        end = start + len(t)\n",
    "        w[start:end] = t\n",
    "        start = end\n",
    "    w = w[:end]\n",
    "    return s, r, w\n",
    "\n",
    "with Pool(100) as pool:\n",
    "    result = pool.starmap(partial(test), slices)\n",
    "\n",
    "s = np.hstack([result[i][0] for i in range(len(slices))])\n",
    "r = np.hstack([result[i][1] for i in range(len(slices))])\n",
    "w = np.hstack([result[i][2] for i in range(len(slices))])\n",
    "    \n",
    "plt.close()\n",
    "fig = plt.figure(figsize=(18, 6))\n",
    "ax = fig.add_subplot(131)\n",
    "b, c = np.unique(s, return_counts=True)\n",
    "ax.bar(b, c, alpha=0.6)\n",
    "ax.set_yscale('log')\n",
    "ax.set_ylim(0.9, 1e4)\n",
    "ax = fig.add_subplot(132)\n",
    "# b, c = np.unique(r, return_counts=True)\n",
    "# ax.bar(b, c, alpha=0.6)\n",
    "ax.hist(r, bins=100, alpha=0.6)\n",
    "ax = fig.add_subplot(133)\n",
    "# b, c = np.unique(r, return_counts=True)\n",
    "# ax.bar(b, c, alpha=0.6)\n",
    "ax.hist(tru['Charge'][tru['Charge'] < 60], bins=20, alpha=0.6, label='all')\n",
    "ax.hist(w, bins=20, alpha=0.6, label='untest')\n",
    "ax.legend(loc='upper left')\n",
    "plt.savefig('t.png')\n",
    "plt.show()"
   ]
  },
  {
   "cell_type": "code",
   "execution_count": null,
   "metadata": {},
   "outputs": [],
   "source": []
  }
 ],
 "metadata": {
  "kernelspec": {
   "display_name": "Python 3",
   "language": "python",
   "name": "python3"
  },
  "language_info": {
   "codemirror_mode": {
    "name": "ipython",
    "version": 3
   },
   "file_extension": ".py",
   "mimetype": "text/x-python",
   "name": "python",
   "nbconvert_exporter": "python",
   "pygments_lexer": "ipython3",
   "version": "3.9.2"
  }
 },
 "nbformat": 4,
 "nbformat_minor": 4
}
