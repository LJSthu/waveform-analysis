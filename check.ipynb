{
 "cells": [
  {
   "cell_type": "code",
   "execution_count": 1,
   "metadata": {},
   "outputs": [],
   "source": [
    "import h5py\n",
    "import numpy as np\n",
    "import matplotlib.pyplot as plt\n",
    "from matplotlib import cm\n",
    "from matplotlib.colors import ListedColormap\n",
    "import scipy.special as special\n",
    "from scipy.stats import poisson, uniform, norm\n",
    "import matplotlib.gridspec as gridspec\n",
    "from tqdm import tqdm\n",
    "from mpl_axes_aligner import align\n",
    "\n",
    "import wf_func as wff\n",
    "\n",
    "plt.rcParams['font.size'] = 20"
   ]
  },
  {
   "cell_type": "code",
   "execution_count": 2,
   "metadata": {},
   "outputs": [],
   "source": [
    "def my_cmap():\n",
    "    plasma = cm.get_cmap('plasma', 65536)\n",
    "    newcolors = plasma(np.linspace(0, 1, 65536))\n",
    "    white = np.array([65535/65536, 65535/65536, 65535/65536, 1])\n",
    "    newcolors[:1, :] = white\n",
    "    newcmp = ListedColormap(newcolors)\n",
    "    return newcmp"
   ]
  },
  {
   "cell_type": "markdown",
   "metadata": {},
   "source": [
    "# 模拟中的时间分布"
   ]
  },
  {
   "cell_type": "code",
   "execution_count": 3,
   "metadata": {},
   "outputs": [],
   "source": [
    "# methods = ['lucyddm', 'xiaopeip', 'takara', 'mcmcrec']\n",
    "methods = ['lucyddm']\n",
    "\n",
    "npe = '20'\n",
    "wf = h5py.File('waveform/' + npe + '-20-10.h5', 'r', libver='latest', swmr=True)\n",
    "spe_pre = wff.read_model('spe.h5')\n",
    "p = spe_pre[0]['parameters']\n",
    "mycmp = my_cmap()\n",
    "colors = {'truth':'k', 'lucyddm':'g', 'xiaopeip':'b', 'takara':'y', 'mcmcrec':'r'}\n",
    "t0 = wf['SimTruth/T']\n",
    "pelist = wf['SimTriggerInfo/PEList']\n",
    "wave = wf['Readout/Waveform']"
   ]
  },
  {
   "cell_type": "code",
   "execution_count": 4,
   "metadata": {},
   "outputs": [],
   "source": [
    "plt.close()\n",
    "fig = plt.figure(figsize=(12, 8))\n",
    "ax = fig.add_subplot()\n",
    "t = np.arange(-40, 120, 0.1)\n",
    "ax.plot(t, wff.convolve_exp_norm(t, 20, 10), label='Time Profile')\n",
    "ax.hist(pelist['HitPosInWindow'] - np.repeat(t0['T0'], np.unique(pelist['TriggerNo'], return_counts=True)[1]), bins=200, alpha=0.5, label='SimCharge', density=True, color=colors['truth'])\n",
    "ax.set_xlim(-30, 100)\n",
    "ax.legend()\n",
    "ax.set_xlabel('t/ns')\n",
    "plt.show()"
   ]
  },
  {
   "cell_type": "markdown",
   "metadata": {},
   "source": [
    "# 模拟中的电荷分布"
   ]
  },
  {
   "cell_type": "code",
   "execution_count": 5,
   "metadata": {},
   "outputs": [],
   "source": [
    "plt.close()\n",
    "fig = plt.figure(figsize=(12, 8))\n",
    "ax = fig.add_subplot()\n",
    "t = np.arange(0, 1000, 0.1)\n",
    "ax.plot(t, norm.pdf(t, loc=160., scale=40.) / (1 - norm.cdf(0, loc=160., scale=40.)), label='ChargePDF')\n",
    "ax.hist(pelist['Charge'], bins=200, alpha=0.5, label='SimCharge', density=True, color=colors['truth'])\n",
    "ax.set_xlim(0, 400)\n",
    "ax.legend()\n",
    "ax.set_xlabel('Charge/mV·ns')\n",
    "plt.show()"
   ]
  },
  {
   "cell_type": "markdown",
   "metadata": {},
   "source": [
    "# 重建结果的时间分布"
   ]
  },
  {
   "cell_type": "code",
   "execution_count": 6,
   "metadata": {},
   "outputs": [],
   "source": [
    "plt.close()\n",
    "fig = plt.figure(figsize=(12, 8))\n",
    "ax = fig.add_subplot()\n",
    "t = np.arange(-40, 120, 0.1)\n",
    "ax.plot(t, wff.convolve_exp_norm(t, 20, 10), label='Time Profile', color=colors['truth'])\n",
    "for m in methods:\n",
    "    so = h5py.File('result/' + m + '/solu/' + npe + '-20-10.h5', 'r', libver='latest', swmr=True)\n",
    "    ch = h5py.File('result/' + m + '/char/' + npe + '-20-10.h5', 'r', libver='latest', swmr=True)\n",
    "    solut0 = so['starttime']\n",
    "    chargepelist = ch['photoelectron']\n",
    "    ax.hist(chargepelist['HitPosInWindow'] - np.repeat(solut0['tscharge'], np.unique(chargepelist['TriggerNo'], return_counts=True)[1]), bins=200, alpha=0.5, label=m, density=True, color=colors[m])\n",
    "ax.set_xlim(-30, 100)\n",
    "ax.legend()\n",
    "ax.set_xlabel('t/ns')\n",
    "plt.show()"
   ]
  },
  {
   "cell_type": "markdown",
   "metadata": {},
   "source": [
    "# 重建结果的电荷分布"
   ]
  },
  {
   "cell_type": "code",
   "execution_count": 7,
   "metadata": {},
   "outputs": [],
   "source": [
    "plt.close()\n",
    "fig = plt.figure(figsize=(12, 8))\n",
    "ax = fig.add_subplot()\n",
    "t = np.arange(0, 1000, 0.1)\n",
    "ax.plot(t, norm.pdf(t, loc=160., scale=40.) / (1 - norm.cdf(0, loc=160., scale=40.)), label='ChargePDF', color=colors['truth'])\n",
    "for m in methods:\n",
    "    ch = h5py.File('result/' + m + '/char/' + npe + '-20-10.h5', 'r', libver='latest', swmr=True)\n",
    "    ax.hist(ch['photoelectron']['Charge'], bins=100, alpha=0.5, label=m, density=True, color=colors[m])\n",
    "ax.set_xlim(0, 400)\n",
    "ax.legend()\n",
    "ax.set_xlabel('Charge/mV·ns')\n",
    "plt.show()"
   ]
  },
  {
   "cell_type": "markdown",
   "metadata": {},
   "source": [
    "# 单事例分析"
   ]
  },
  {
   "cell_type": "code",
   "execution_count": 8,
   "metadata": {},
   "outputs": [],
   "source": [
    "i = 0\n",
    "pan = np.arange(len(wave))\n",
    "plt.close()\n",
    "fig = plt.figure(figsize=(12, 8))\n",
    "ax = fig.add_subplot()\n",
    "truth = pelist[pelist['TriggerNo'] == i]\n",
    "ax.vlines(truth['HitPosInWindow'], ymin=0, ymax=truth['Charge'], label='truth', color=colors['truth'])\n",
    "ax2 = ax.twinx()\n",
    "ax2.plot(wave[i]['Waveform'], color=colors['truth'])\n",
    "for m, mi in zip(methods, list(range(len(m)))):\n",
    "    ch = h5py.File('result/' + m + '/char/' + npe + '-20-10.h5', 'r', libver='latest', swmr=True)\n",
    "    charge = ch['photoelectron'][ch['photoelectron']['TriggerNo'] == i]\n",
    "    wav_sub = np.sum([np.where(pan > charge['HitPosInWindow'][j], wff.spe(pan - charge['HitPosInWindow'][j], tau=p[0], sigma=p[1], A=p[2]) * charge['Charge'][j], 0) for j in range(len(charge['HitPosInWindow']))], axis=0) / np.sum(spe_pre[0]['spe'])\n",
    "    ax.vlines(charge['HitPosInWindow'], ymin=0, ymax=charge['Charge'], label=m, color=colors[m], linewidth=3)\n",
    "    ax2.plot(wav_sub, color=colors[m])\n",
    "ax.set_xlim(480, 600)\n",
    "lines, labels = ax.get_legend_handles_labels()\n",
    "lines2, labels2 = ax2.get_legend_handles_labels()\n",
    "ax2.legend(lines + lines2, labels + labels2)\n",
    "align.yaxes(ax, 0, ax2, 0)\n",
    "ax.set_xlabel('t/ns')\n",
    "ax.set_ylabel('mV·ns')\n",
    "ax2.set_ylabel('mV')\n",
    "plt.show()"
   ]
  },
  {
   "cell_type": "markdown",
   "metadata": {},
   "source": [
    "# 探索 MCMC 针对稀疏参数的优化方法"
   ]
  },
  {
   "cell_type": "code",
   "execution_count": 19,
   "metadata": {},
   "outputs": [
    {
     "name": "stderr",
     "output_type": "stream",
     "text": [
      "100%|██████████| 10000/10000 [00:05<00:00, 1920.86it/s]\n",
      "100%|██████████| 10000/10000 [00:05<00:00, 1917.36it/s]\n",
      "100%|██████████| 10000/10000 [00:05<00:00, 1907.18it/s]\n",
      "100%|██████████| 10000/10000 [00:05<00:00, 1892.34it/s]\n"
     ]
    }
   ],
   "source": [
    "plt.close()\n",
    "fig = plt.figure(figsize=(24, 16))\n",
    "for m, mi in zip(methods, list(range(len(m)))):\n",
    "    ch = h5py.File('result/' + m + '/char/' + npe + '-20-10.h5', 'r', libver='latest', swmr=True)\n",
    "    chargepelist = ch['photoelectron']\n",
    "    e_tru, i_tru = np.unique(pelist['TriggerNo'], return_index=True)\n",
    "    i_tru = np.append(i_tru, len(pelist))\n",
    "    e_cha, i_cha = np.unique(chargepelist['TriggerNo'], return_index=True)\n",
    "    i_cha = np.append(i_cha, len(chargepelist))\n",
    "    gs = gridspec.GridSpec(4, 2, figure=fig, left=0.1, right=0.9, top=0.9, bottom=0.1, wspace=0.2, hspace=0.25)\n",
    "    ax1 = fig.add_subplot(gs[mi // 2, mi % 2])\n",
    "    ax2 = fig.add_subplot(gs[mi // 2+2, mi % 2])\n",
    "    for n in [0, 1, 2, 3]:\n",
    "        s = np.empty(len(wave))\n",
    "        oldl = np.empty(len(wave))\n",
    "        newl = np.empty(len(wave))\n",
    "        for i in tqdm(range(len(wave))):\n",
    "            truthlisti = pelist[i_tru[i]:i_tru[i+1]]\n",
    "            chargelisti = chargepelist[i_cha[i]:i_cha[i+1]]\n",
    "            truthhit = np.unique(np.floor(truthlisti['HitPosInWindow']))\n",
    "            aug_chargelisti = np.hstack(chargelisti['HitPosInWindow'][:, None] + np.arange(-n, n+1))\n",
    "            chargehit = np.unique(np.floor(aug_chargelisti))\n",
    "            s[i] = len(truthhit) - np.sum(np.isin(truthhit, chargehit))\n",
    "#             s[i] = np.min(np.abs(truthhit[:, None] - chargehit), axis=1).sum()\n",
    "            oldl[i] = np.clip(chargelisti['HitPosInWindow'].max() + round(3 * spe_pre[0]['mar_l']), 0, 1029) - np.clip(chargelisti['HitPosInWindow'].min() - round(3 * spe_pre[0]['mar_l']), 0, 1029)\n",
    "            newl[i] = len(chargehit)\n",
    "        di, ci = np.unique(s, return_counts=True)\n",
    "        ax1.bar(di + n/10, ci, label='n = {}'.format(n), alpha=0.6)\n",
    "#         di, ci = np.unique(oldl - newl, return_counts=True)\n",
    "#         ax2.bar(di + n/10, ci, label='n = {}'.format(n), alpha=0.6)\n",
    "        ax2.hist(1 - newl / oldl, bins=50, label='n = {}'.format(n), alpha=0.6)\n",
    "    ax1.legend()\n",
    "#     ax1.set_yscale('log')\n",
    "    ax1.set_title(m)\n",
    "    ax1.set_ylim(top=1e4)\n",
    "    ax1.set_xlim(0, 10)\n",
    "    ax2.legend()\n",
    "    ax2.set_title(m)\n",
    "#     ax2.set_ylim(top=1e4)\n",
    "#     ax2.set_xlim(0, 10)\n",
    "plt.savefig('op.png')"
   ]
  },
  {
   "cell_type": "code",
   "execution_count": null,
   "metadata": {},
   "outputs": [],
   "source": []
  }
 ],
 "metadata": {
  "kernelspec": {
   "display_name": "Python 3",
   "language": "python",
   "name": "python3"
  },
  "language_info": {
   "codemirror_mode": {
    "name": "ipython",
    "version": 3
   },
   "file_extension": ".py",
   "mimetype": "text/x-python",
   "name": "python",
   "nbconvert_exporter": "python",
   "pygments_lexer": "ipython3",
   "version": "3.8.7rc1"
  }
 },
 "nbformat": 4,
 "nbformat_minor": 4
}
